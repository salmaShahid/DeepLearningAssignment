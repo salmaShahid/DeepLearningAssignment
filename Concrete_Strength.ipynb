{
 "cells": [
  {
   "cell_type": "markdown",
   "metadata": {
    "id": "3qeo8uXW1IrN"
   },
   "source": [
    "# Assignment: Compresive Strength Concrete Problem\n",
    "\n",
    "\n",
    "### Abstract: \n",
    "\n",
    "Concrete is the most important material in civil engineering. The concrete compressive strength (concrete strength to bear the load) is a highly nonlinear function of age and ingredients.  <br><br>\n",
    "\n",
    "<table border=\"1\"  cellpadding=\"6\" bordercolor=\"red\">\n",
    "\t<tbody>\n",
    "        <tr>\n",
    "\t\t<td bgcolor=\"#DDEEFF\"><p class=\"normal\"><b>Data Set Characteristics:&nbsp;&nbsp;</b></p></td>\n",
    "\t\t<td><p class=\"normal\">Multivariate</p></td>\n",
    "\t\t<td bgcolor=\"#DDEEFF\"><p class=\"normal\"><b>Number of Instances:</b></p></td>\n",
    "\t\t<td><p class=\"normal\">1030</p></td>\n",
    "\t\t<td bgcolor=\"#DDEEFF\"><p class=\"normal\"><b>Area:</b></p></td>\n",
    "\t\t<td><p class=\"normal\">Physical</p></td>\n",
    "        </tr>\n",
    "     </tbody>\n",
    "    </table>\n",
    "<table border=\"1\" cellpadding=\"6\">\n",
    "    <tbody>\n",
    "        <tr>\n",
    "            <td bgcolor=\"#DDEEFF\"><p class=\"normal\"><b>Attribute Characteristics:</b></p></td>\n",
    "            <td><p class=\"normal\">Real</p></td>\n",
    "            <td bgcolor=\"#DDEEFF\"><p class=\"normal\"><b>Number of Attributes:</b></p></td>\n",
    "            <td><p class=\"normal\">9</p></td>\n",
    "            <td bgcolor=\"#DDEEFF\"><p class=\"normal\"><b>Date Donated</b></p></td>\n",
    "            <td><p class=\"normal\">2007-08-03</p></td>\n",
    "        </tr>\n",
    "     </tbody>\n",
    "    </table>\n",
    "<table border=\"1\" cellpadding=\"6\">\t\n",
    "    <tbody>\n",
    "    <tr>\n",
    "\t\t<td bgcolor=\"#DDEEFF\"><p class=\"normal\"><b>Associated Tasks:</b></p></td>\n",
    "\t\t<td><p class=\"normal\">Regression</p></td>\n",
    "\t\t<td bgcolor=\"#DDEEFF\"><p class=\"normal\"><b>Missing Values?</b></p></td>\n",
    "\t\t<td><p class=\"normal\">N/A</p></td>\n",
    "\t\t<td bgcolor=\"#DDEEFF\"><p class=\"normal\"><b>Number of Web Hits:</b></p></td>\n",
    "\t\t<td><p class=\"normal\">231464</p></td>\n",
    "\t</tr>\n",
    "    </tbody>\n",
    "    </table>"
   ]
  },
  {
   "cell_type": "code",
   "execution_count": 1,
   "metadata": {
    "colab": {
     "base_uri": "https://localhost:8080/"
    },
    "id": "eumeYPTd1W0y",
    "outputId": "c8cf2533-254c-4f36-cbab-8dae9e35a4ae"
   },
   "outputs": [
    {
     "name": "stdout",
     "output_type": "stream",
     "text": [
      "Mounted at /content/drive\n"
     ]
    }
   ],
   "source": [
    "from google.colab import drive\n",
    "drive.mount('/content/drive')"
   ]
  },
  {
   "cell_type": "markdown",
   "metadata": {
    "id": "SjxXVdZM1IrY"
   },
   "source": [
    "###  Description:\n",
    "| Features Name | Data Type | Measurement | Description |\n",
    "| -- | -- | -- | -- |\n",
    "Cement (component 1) | quantitative | kg in a m3 mixture | Input Variable\n",
    "Blast Furnace Slag (component 2) | quantitative | kg in a m3 mixture | Input Variable\n",
    "Fly Ash (component 3) | quantitative | kg in a m3 mixture | Input Variable\n",
    "Water (component 4) | quantitative | kg in a m3 mixture | Input Variable\n",
    "Superplasticizer (component 5) | quantitative | kg in a m3 mixture | Input Variable\n",
    "Coarse Aggregate (component 6) | quantitative | kg in a m3 mixture | Input Variable\n",
    "Fine Aggregate (component 7) | quantitative | kg in a m3 mixture | Input Variable\n",
    "Age | quantitative | Day (1~365) | Input Variable\n",
    "Concrete compressive strength | quantitative | MPa | Output Variable\n",
    "\n",
    "### WORKFLOW :\n",
    "- Load Data\n",
    "- Check Missing Values ( If Exist ; Fill each record with mean of its feature )\n",
    "- Standardized the Input Variables. **Hint**: Centeralized the data\n",
    "- Split into 50% Training(Samples,Labels) , 30% Test(Samples,Labels) and 20% Validation Data(Samples,Labels).\n",
    "- Model : input Layer (No. of features ), 3 hidden layers including 10,8,6 unit & Output Layer with activation function relu/tanh (check by experiment).\n",
    "- Compilation Step (Note : Its a Regression problem , select loss , metrics according to it)\n",
    "- Train the Model with Epochs (100) and validate it\n",
    "- If the model gets overfit tune your model by changing the units , No. of layers , activation function , epochs , add dropout layer or add Regularizer according to the need .\n",
    "- Evaluation Step\n",
    "- Prediction\n"
   ]
  },
  {
   "cell_type": "markdown",
   "metadata": {
    "id": "_RT_OvPh1IrZ"
   },
   "source": [
    "# Load Data:\n",
    "[Click Here to Download DataSet](https://github.com/ramsha275/ML_Datasets/blob/main/compresive_strength_concrete.csv)"
   ]
  },
  {
   "cell_type": "markdown",
   "metadata": {
    "id": "yaKy4_wW2HU7"
   },
   "source": [
    "Import libraries and Load Data"
   ]
  },
  {
   "cell_type": "code",
   "execution_count": 38,
   "metadata": {
    "id": "ejHR6t1I1IrZ"
   },
   "outputs": [],
   "source": [
    "import pandas as pd\n",
    "import numpy as np\n",
    "import matplotlib.pyplot as plt\n",
    "from sklearn.preprocessing import StandardScaler\n",
    "from sklearn.model_selection import train_test_split\n",
    "import tensorflow as tf\n",
    "from tensorflow.keras import models,layers,optimizers,utils\n",
    "from tensorflow.keras.utils import to_categorical\n",
    "from tensorflow.keras.models import Sequential\n",
    "from tensorflow.keras.layers import Dense\n",
    "import math\n",
    "from sklearn.metrics import mean_squared_error"
   ]
  },
  {
   "cell_type": "code",
   "execution_count": 39,
   "metadata": {
    "id": "oYxtrMcu1Ira"
   },
   "outputs": [],
   "source": [
    "df=pd.read_csv(\"/content/drive/MyDrive/PIAIC_ASSIGNMENTS/compresive_strength_concrete.csv\")"
   ]
  },
  {
   "cell_type": "markdown",
   "metadata": {
    "id": "9zPL_cFH2QNO"
   },
   "source": [
    "Check Missing Values ( If Exist ; Fill each record with mean of its feature )"
   ]
  },
  {
   "cell_type": "code",
   "execution_count": 40,
   "metadata": {
    "id": "yJffEfFn2PYj"
   },
   "outputs": [],
   "source": [
    "# creating a dataframe from list\n",
    "df = pd.DataFrame(df)\n",
    "\n",
    "#CHECK MISSING VALUE if exist replace it with mean\n",
    "if df.isnull:\n",
    "  df.fillna(df.mean())\n",
    "  df.head()"
   ]
  },
  {
   "cell_type": "code",
   "execution_count": 41,
   "metadata": {
    "scrolled": true,
    "id": "Jxt92ei71Ira",
    "colab": {
     "base_uri": "https://localhost:8080/",
     "height": 255.0
    },
    "outputId": "0e8ae65e-5c9f-4dd3-cbd9-f708f676af5b"
   },
   "outputs": [
    {
     "data": {
      "text/html": [
       "<div>\n",
       "<style scoped>\n",
       "    .dataframe tbody tr th:only-of-type {\n",
       "        vertical-align: middle;\n",
       "    }\n",
       "\n",
       "    .dataframe tbody tr th {\n",
       "        vertical-align: top;\n",
       "    }\n",
       "\n",
       "    .dataframe thead th {\n",
       "        text-align: right;\n",
       "    }\n",
       "</style>\n",
       "<table border=\"1\" class=\"dataframe\">\n",
       "  <thead>\n",
       "    <tr style=\"text-align: right;\">\n",
       "      <th></th>\n",
       "      <th>Cement (component 1)(kg in a m^3 mixture)</th>\n",
       "      <th>Blast Furnace Slag (component 2)(kg in a m^3 mixture)</th>\n",
       "      <th>Fly Ash (component 3)(kg in a m^3 mixture)</th>\n",
       "      <th>Water  (component 4)(kg in a m^3 mixture)</th>\n",
       "      <th>Superplasticizer (component 5)(kg in a m^3 mixture)</th>\n",
       "      <th>Coarse Aggregate  (component 6)(kg in a m^3 mixture)</th>\n",
       "      <th>Fine Aggregate (component 7)(kg in a m^3 mixture)</th>\n",
       "      <th>Age (day)</th>\n",
       "      <th>Concrete compressive strength(MPa, megapascals)</th>\n",
       "    </tr>\n",
       "  </thead>\n",
       "  <tbody>\n",
       "    <tr>\n",
       "      <th>0</th>\n",
       "      <td>540.0</td>\n",
       "      <td>0.0</td>\n",
       "      <td>0.0</td>\n",
       "      <td>162.0</td>\n",
       "      <td>2.5</td>\n",
       "      <td>1040.0</td>\n",
       "      <td>676.0</td>\n",
       "      <td>28</td>\n",
       "      <td>79.99</td>\n",
       "    </tr>\n",
       "    <tr>\n",
       "      <th>1</th>\n",
       "      <td>540.0</td>\n",
       "      <td>0.0</td>\n",
       "      <td>0.0</td>\n",
       "      <td>162.0</td>\n",
       "      <td>2.5</td>\n",
       "      <td>1055.0</td>\n",
       "      <td>676.0</td>\n",
       "      <td>28</td>\n",
       "      <td>61.89</td>\n",
       "    </tr>\n",
       "    <tr>\n",
       "      <th>2</th>\n",
       "      <td>332.5</td>\n",
       "      <td>142.5</td>\n",
       "      <td>0.0</td>\n",
       "      <td>228.0</td>\n",
       "      <td>0.0</td>\n",
       "      <td>932.0</td>\n",
       "      <td>594.0</td>\n",
       "      <td>270</td>\n",
       "      <td>40.27</td>\n",
       "    </tr>\n",
       "    <tr>\n",
       "      <th>3</th>\n",
       "      <td>332.5</td>\n",
       "      <td>142.5</td>\n",
       "      <td>0.0</td>\n",
       "      <td>228.0</td>\n",
       "      <td>0.0</td>\n",
       "      <td>932.0</td>\n",
       "      <td>594.0</td>\n",
       "      <td>365</td>\n",
       "      <td>41.05</td>\n",
       "    </tr>\n",
       "    <tr>\n",
       "      <th>4</th>\n",
       "      <td>198.6</td>\n",
       "      <td>132.4</td>\n",
       "      <td>0.0</td>\n",
       "      <td>192.0</td>\n",
       "      <td>0.0</td>\n",
       "      <td>978.4</td>\n",
       "      <td>825.5</td>\n",
       "      <td>360</td>\n",
       "      <td>44.30</td>\n",
       "    </tr>\n",
       "  </tbody>\n",
       "</table>\n",
       "</div>"
      ],
      "text/plain": [
       "   Cement (component 1)(kg in a m^3 mixture)  ...  Concrete compressive strength(MPa, megapascals) \n",
       "0                                      540.0  ...                                             79.99\n",
       "1                                      540.0  ...                                             61.89\n",
       "2                                      332.5  ...                                             40.27\n",
       "3                                      332.5  ...                                             41.05\n",
       "4                                      198.6  ...                                             44.30\n",
       "\n",
       "[5 rows x 9 columns]"
      ]
     },
     "execution_count": 41,
     "metadata": {
      "tags": []
     },
     "output_type": "execute_result"
    }
   ],
   "source": [
    "df.head()"
   ]
  },
  {
   "cell_type": "markdown",
   "metadata": {
    "id": "wsGKwZaI2rhK"
   },
   "source": [
    "Standardized the Input Variables. Hint: Centeralized the data, Split into 50% Training(Samples,Labels) , 30% Test(Samples,Labels) and 20% Validation Data(Samples,Labels)."
   ]
  },
  {
   "cell_type": "code",
   "execution_count": 42,
   "metadata": {
    "id": "6aWK-VMg1Irc"
   },
   "outputs": [],
   "source": [
    "y=df['Concrete compressive strength(MPa, megapascals) '].copy()\n",
    "x=df.drop('Concrete compressive strength(MPa, megapascals) ', axis=1).copy()"
   ]
  },
  {
   "cell_type": "code",
   "execution_count": 43,
   "metadata": {
    "id": "6WhCHcoL1Irc"
   },
   "outputs": [],
   "source": [
    "x_train,x_test,y_train,y_test=train_test_split(x,y,train_size=0.7,random_state=123)"
   ]
  },
  {
   "cell_type": "code",
   "execution_count": 44,
   "metadata": {
    "id": "lc0DZQkA1Irc",
    "colab": {
     "base_uri": "https://localhost:8080/"
    },
    "outputId": "a9156f6d-dd43-4e38-d7da-8781c731a9a0"
   },
   "outputs": [
    {
     "data": {
      "text/plain": [
       "StandardScaler(copy=True, with_mean=True, with_std=True)"
      ]
     },
     "execution_count": 44,
     "metadata": {
      "tags": []
     },
     "output_type": "execute_result"
    }
   ],
   "source": [
    "scaler = StandardScaler()\n",
    "scaler.fit(x_train)"
   ]
  },
  {
   "cell_type": "code",
   "execution_count": 45,
   "metadata": {
    "id": "Hixlx6Gr1Ird"
   },
   "outputs": [],
   "source": [
    "x_train =pd.DataFrame(scaler.transform(x_train),columns=x_train.columns)\n",
    "x_test=pd.DataFrame(scaler.transform(x_test),columns=x_test.columns)"
   ]
  },
  {
   "cell_type": "code",
   "execution_count": 46,
   "metadata": {
    "id": "JcASXc301Ird"
   },
   "outputs": [],
   "source": [
    "part_x_train, x_val, part_y_train, y_val = train_test_split(x_train, y_train, test_size=0.2, random_state=2)"
   ]
  },
  {
   "cell_type": "markdown",
   "metadata": {
    "id": "3Nw6gvVx22yZ"
   },
   "source": [
    "Model : input Layer (No. of features ), 3 hidden layers including 10,8,6 unit & Output Layer with activation function relu/tanh (check by experiment).\n",
    "Compilation Step (Note : Its a Regression problem , select loss , metrics according to it)\n",
    "Train the Model with Epochs (100) and validate it"
   ]
  },
  {
   "cell_type": "code",
   "execution_count": 58,
   "metadata": {
    "id": "zr3KjVGu1Ire"
   },
   "outputs": [],
   "source": [
    "model = Sequential()\n",
    "model.add(Dense(12, input_dim=8, activation= \"relu\"))\n",
    "model.add(Dense(10, activation= \"relu\"))\n",
    "model.add(Dense(8, activation= \"relu\"))\n",
    "model.add(Dense(6, activation= \"relu\"))\n",
    "model.add(Dense(1,activation=\"relu\"))\n",
    "model.compile(loss= \"mean_squared_error\" , optimizer=\"adam\", metrics=[\"acc\"])"
   ]
  },
  {
   "cell_type": "code",
   "execution_count": 59,
   "metadata": {
    "id": "m6ThDiSR1Ire",
    "colab": {
     "base_uri": "https://localhost:8080/"
    },
    "outputId": "aca044f0-7642-41c3-8ee0-e241a0132a54"
   },
   "outputs": [
    {
     "name": "stdout",
     "output_type": "stream",
     "text": [
      "Epoch 1/100\n",
      "5/5 [==============================] - 1s 60ms/step - loss: 1596.9660 - acc: 0.0000e+00 - val_loss: 1466.7183 - val_acc: 0.0000e+00\n",
      "Epoch 2/100\n",
      "5/5 [==============================] - 0s 13ms/step - loss: 1597.6740 - acc: 0.0000e+00 - val_loss: 1465.0432 - val_acc: 0.0000e+00\n",
      "Epoch 3/100\n",
      "5/5 [==============================] - 0s 14ms/step - loss: 1575.4006 - acc: 0.0000e+00 - val_loss: 1462.9882 - val_acc: 0.0000e+00\n",
      "Epoch 4/100\n",
      "5/5 [==============================] - 0s 13ms/step - loss: 1623.2973 - acc: 0.0000e+00 - val_loss: 1460.5750 - val_acc: 0.0000e+00\n",
      "Epoch 5/100\n",
      "5/5 [==============================] - 0s 13ms/step - loss: 1557.6075 - acc: 0.0000e+00 - val_loss: 1457.5288 - val_acc: 0.0000e+00\n",
      "Epoch 6/100\n",
      "5/5 [==============================] - 0s 13ms/step - loss: 1615.8348 - acc: 0.0000e+00 - val_loss: 1453.9325 - val_acc: 0.0000e+00\n",
      "Epoch 7/100\n",
      "5/5 [==============================] - 0s 12ms/step - loss: 1603.5320 - acc: 0.0000e+00 - val_loss: 1450.0211 - val_acc: 0.0000e+00\n",
      "Epoch 8/100\n",
      "5/5 [==============================] - 0s 13ms/step - loss: 1584.3920 - acc: 0.0000e+00 - val_loss: 1445.7799 - val_acc: 0.0000e+00\n",
      "Epoch 9/100\n",
      "5/5 [==============================] - 0s 13ms/step - loss: 1584.5960 - acc: 0.0000e+00 - val_loss: 1441.2175 - val_acc: 0.0000e+00\n",
      "Epoch 10/100\n",
      "5/5 [==============================] - 0s 14ms/step - loss: 1638.9488 - acc: 0.0000e+00 - val_loss: 1436.2367 - val_acc: 0.0000e+00\n",
      "Epoch 11/100\n",
      "5/5 [==============================] - 0s 14ms/step - loss: 1617.7097 - acc: 0.0000e+00 - val_loss: 1430.7911 - val_acc: 0.0000e+00\n",
      "Epoch 12/100\n",
      "5/5 [==============================] - 0s 13ms/step - loss: 1525.7523 - acc: 0.0000e+00 - val_loss: 1424.6996 - val_acc: 0.0000e+00\n",
      "Epoch 13/100\n",
      "5/5 [==============================] - 0s 12ms/step - loss: 1503.9957 - acc: 0.0000e+00 - val_loss: 1417.8625 - val_acc: 0.0000e+00\n",
      "Epoch 14/100\n",
      "5/5 [==============================] - 0s 13ms/step - loss: 1543.6503 - acc: 0.0000e+00 - val_loss: 1410.2472 - val_acc: 0.0000e+00\n",
      "Epoch 15/100\n",
      "5/5 [==============================] - 0s 12ms/step - loss: 1502.1700 - acc: 0.0000e+00 - val_loss: 1401.7384 - val_acc: 0.0000e+00\n",
      "Epoch 16/100\n",
      "5/5 [==============================] - 0s 14ms/step - loss: 1571.7563 - acc: 0.0000e+00 - val_loss: 1392.1531 - val_acc: 0.0000e+00\n",
      "Epoch 17/100\n",
      "5/5 [==============================] - 0s 13ms/step - loss: 1551.5759 - acc: 0.0000e+00 - val_loss: 1381.3573 - val_acc: 0.0000e+00\n",
      "Epoch 18/100\n",
      "5/5 [==============================] - 0s 13ms/step - loss: 1552.4629 - acc: 0.0000e+00 - val_loss: 1369.1881 - val_acc: 0.0000e+00\n",
      "Epoch 19/100\n",
      "5/5 [==============================] - 0s 12ms/step - loss: 1449.5916 - acc: 0.0000e+00 - val_loss: 1355.5591 - val_acc: 0.0000e+00\n",
      "Epoch 20/100\n",
      "5/5 [==============================] - 0s 13ms/step - loss: 1420.2071 - acc: 0.0000e+00 - val_loss: 1340.2596 - val_acc: 0.0000e+00\n",
      "Epoch 21/100\n",
      "5/5 [==============================] - 0s 16ms/step - loss: 1476.0200 - acc: 0.0000e+00 - val_loss: 1322.9388 - val_acc: 0.0000e+00\n",
      "Epoch 22/100\n",
      "5/5 [==============================] - 0s 12ms/step - loss: 1397.3048 - acc: 0.0000e+00 - val_loss: 1303.4779 - val_acc: 0.0000e+00\n",
      "Epoch 23/100\n",
      "5/5 [==============================] - 0s 12ms/step - loss: 1444.3023 - acc: 0.0000e+00 - val_loss: 1281.6729 - val_acc: 0.0000e+00\n",
      "Epoch 24/100\n",
      "5/5 [==============================] - 0s 14ms/step - loss: 1320.3032 - acc: 0.0000e+00 - val_loss: 1257.4414 - val_acc: 0.0000e+00\n",
      "Epoch 25/100\n",
      "5/5 [==============================] - 0s 17ms/step - loss: 1358.5461 - acc: 0.0000e+00 - val_loss: 1230.4208 - val_acc: 0.0000e+00\n",
      "Epoch 26/100\n",
      "5/5 [==============================] - 0s 14ms/step - loss: 1366.1849 - acc: 0.0000e+00 - val_loss: 1200.5737 - val_acc: 0.0000e+00\n",
      "Epoch 27/100\n",
      "5/5 [==============================] - 0s 15ms/step - loss: 1273.5243 - acc: 0.0000e+00 - val_loss: 1167.8625 - val_acc: 0.0000e+00\n",
      "Epoch 28/100\n",
      "5/5 [==============================] - 0s 14ms/step - loss: 1299.2442 - acc: 0.0000e+00 - val_loss: 1132.0592 - val_acc: 0.0000e+00\n",
      "Epoch 29/100\n",
      "5/5 [==============================] - 0s 13ms/step - loss: 1200.4168 - acc: 0.0000e+00 - val_loss: 1093.1218 - val_acc: 0.0000e+00\n",
      "Epoch 30/100\n",
      "5/5 [==============================] - 0s 13ms/step - loss: 1208.7800 - acc: 0.0000e+00 - val_loss: 1050.7644 - val_acc: 0.0000e+00\n",
      "Epoch 31/100\n",
      "5/5 [==============================] - 0s 14ms/step - loss: 1129.2674 - acc: 0.0000e+00 - val_loss: 1005.1791 - val_acc: 0.0000e+00\n",
      "Epoch 32/100\n",
      "5/5 [==============================] - 0s 15ms/step - loss: 1091.9664 - acc: 0.0000e+00 - val_loss: 956.4711 - val_acc: 0.0000e+00\n",
      "Epoch 33/100\n",
      "5/5 [==============================] - 0s 14ms/step - loss: 1013.1127 - acc: 0.0000e+00 - val_loss: 904.9644 - val_acc: 0.0000e+00\n",
      "Epoch 34/100\n",
      "5/5 [==============================] - 0s 14ms/step - loss: 962.6413 - acc: 0.0000e+00 - val_loss: 850.6732 - val_acc: 0.0000e+00\n",
      "Epoch 35/100\n",
      "5/5 [==============================] - 0s 15ms/step - loss: 908.9016 - acc: 0.0000e+00 - val_loss: 793.7133 - val_acc: 0.0000e+00\n",
      "Epoch 36/100\n",
      "5/5 [==============================] - 0s 15ms/step - loss: 864.6078 - acc: 0.0000e+00 - val_loss: 734.7161 - val_acc: 0.0000e+00\n",
      "Epoch 37/100\n",
      "5/5 [==============================] - 0s 12ms/step - loss: 802.5537 - acc: 0.0000e+00 - val_loss: 674.7365 - val_acc: 0.0000e+00\n",
      "Epoch 38/100\n",
      "5/5 [==============================] - 0s 13ms/step - loss: 776.1659 - acc: 0.0000e+00 - val_loss: 614.0183 - val_acc: 0.0000e+00\n",
      "Epoch 39/100\n",
      "5/5 [==============================] - 0s 13ms/step - loss: 678.4392 - acc: 0.0000e+00 - val_loss: 554.1146 - val_acc: 0.0000e+00\n",
      "Epoch 40/100\n",
      "5/5 [==============================] - 0s 12ms/step - loss: 622.0321 - acc: 0.0000e+00 - val_loss: 495.0481 - val_acc: 0.0000e+00\n",
      "Epoch 41/100\n",
      "5/5 [==============================] - 0s 12ms/step - loss: 572.3509 - acc: 0.0000e+00 - val_loss: 438.4492 - val_acc: 0.0000e+00\n",
      "Epoch 42/100\n",
      "5/5 [==============================] - 0s 13ms/step - loss: 505.4841 - acc: 0.0000e+00 - val_loss: 386.3735 - val_acc: 0.0000e+00\n",
      "Epoch 43/100\n",
      "5/5 [==============================] - 0s 12ms/step - loss: 458.3991 - acc: 0.0000e+00 - val_loss: 339.3273 - val_acc: 0.0000e+00\n",
      "Epoch 44/100\n",
      "5/5 [==============================] - 0s 13ms/step - loss: 417.1670 - acc: 0.0000e+00 - val_loss: 298.6591 - val_acc: 0.0000e+00\n",
      "Epoch 45/100\n",
      "5/5 [==============================] - 0s 13ms/step - loss: 386.5228 - acc: 0.0000e+00 - val_loss: 265.1904 - val_acc: 0.0000e+00\n",
      "Epoch 46/100\n",
      "5/5 [==============================] - 0s 12ms/step - loss: 328.0823 - acc: 0.0000e+00 - val_loss: 239.3147 - val_acc: 0.0000e+00\n",
      "Epoch 47/100\n",
      "5/5 [==============================] - 0s 12ms/step - loss: 320.9027 - acc: 0.0000e+00 - val_loss: 219.4687 - val_acc: 0.0000e+00\n",
      "Epoch 48/100\n",
      "5/5 [==============================] - 0s 13ms/step - loss: 289.1262 - acc: 0.0000e+00 - val_loss: 205.1112 - val_acc: 0.0000e+00\n",
      "Epoch 49/100\n",
      "5/5 [==============================] - 0s 14ms/step - loss: 276.9083 - acc: 0.0000e+00 - val_loss: 194.2461 - val_acc: 0.0000e+00\n",
      "Epoch 50/100\n",
      "5/5 [==============================] - 0s 13ms/step - loss: 272.5149 - acc: 0.0000e+00 - val_loss: 186.5985 - val_acc: 0.0000e+00\n",
      "Epoch 51/100\n",
      "5/5 [==============================] - 0s 13ms/step - loss: 258.0647 - acc: 0.0000e+00 - val_loss: 181.0777 - val_acc: 0.0000e+00\n",
      "Epoch 52/100\n",
      "5/5 [==============================] - 0s 13ms/step - loss: 250.1992 - acc: 0.0000e+00 - val_loss: 176.7455 - val_acc: 0.0000e+00\n",
      "Epoch 53/100\n",
      "5/5 [==============================] - 0s 12ms/step - loss: 254.2897 - acc: 0.0000e+00 - val_loss: 173.3518 - val_acc: 0.0000e+00\n",
      "Epoch 54/100\n",
      "5/5 [==============================] - 0s 12ms/step - loss: 257.2290 - acc: 0.0000e+00 - val_loss: 170.7643 - val_acc: 0.0000e+00\n",
      "Epoch 55/100\n",
      "5/5 [==============================] - 0s 14ms/step - loss: 250.1266 - acc: 0.0000e+00 - val_loss: 168.3369 - val_acc: 0.0000e+00\n",
      "Epoch 56/100\n",
      "5/5 [==============================] - 0s 13ms/step - loss: 258.9951 - acc: 0.0000e+00 - val_loss: 166.0695 - val_acc: 0.0000e+00\n",
      "Epoch 57/100\n",
      "5/5 [==============================] - 0s 12ms/step - loss: 246.5699 - acc: 0.0000e+00 - val_loss: 164.1224 - val_acc: 0.0000e+00\n",
      "Epoch 58/100\n",
      "5/5 [==============================] - 0s 13ms/step - loss: 241.4836 - acc: 0.0000e+00 - val_loss: 162.3839 - val_acc: 0.0000e+00\n",
      "Epoch 59/100\n",
      "5/5 [==============================] - 0s 13ms/step - loss: 245.1210 - acc: 0.0000e+00 - val_loss: 160.9476 - val_acc: 0.0000e+00\n",
      "Epoch 60/100\n",
      "5/5 [==============================] - 0s 13ms/step - loss: 240.1046 - acc: 0.0000e+00 - val_loss: 159.6356 - val_acc: 0.0000e+00\n",
      "Epoch 61/100\n",
      "5/5 [==============================] - 0s 13ms/step - loss: 250.4955 - acc: 0.0000e+00 - val_loss: 158.0788 - val_acc: 0.0000e+00\n",
      "Epoch 62/100\n",
      "5/5 [==============================] - 0s 14ms/step - loss: 252.3263 - acc: 0.0000e+00 - val_loss: 156.8412 - val_acc: 0.0000e+00\n",
      "Epoch 63/100\n",
      "5/5 [==============================] - 0s 14ms/step - loss: 233.2160 - acc: 0.0000e+00 - val_loss: 155.5420 - val_acc: 0.0000e+00\n",
      "Epoch 64/100\n",
      "5/5 [==============================] - 0s 15ms/step - loss: 224.3301 - acc: 0.0000e+00 - val_loss: 154.0846 - val_acc: 0.0000e+00\n",
      "Epoch 65/100\n",
      "5/5 [==============================] - 0s 14ms/step - loss: 216.8212 - acc: 0.0000e+00 - val_loss: 152.8976 - val_acc: 0.0000e+00\n",
      "Epoch 66/100\n",
      "5/5 [==============================] - 0s 13ms/step - loss: 223.9704 - acc: 0.0000e+00 - val_loss: 151.7803 - val_acc: 0.0000e+00\n",
      "Epoch 67/100\n",
      "5/5 [==============================] - 0s 13ms/step - loss: 226.0674 - acc: 0.0000e+00 - val_loss: 150.6013 - val_acc: 0.0000e+00\n",
      "Epoch 68/100\n",
      "5/5 [==============================] - 0s 14ms/step - loss: 222.2475 - acc: 0.0000e+00 - val_loss: 149.5528 - val_acc: 0.0000e+00\n",
      "Epoch 69/100\n",
      "5/5 [==============================] - 0s 14ms/step - loss: 213.6321 - acc: 0.0000e+00 - val_loss: 148.3890 - val_acc: 0.0000e+00\n",
      "Epoch 70/100\n",
      "5/5 [==============================] - 0s 13ms/step - loss: 225.2740 - acc: 0.0000e+00 - val_loss: 147.2884 - val_acc: 0.0000e+00\n",
      "Epoch 71/100\n",
      "5/5 [==============================] - 0s 12ms/step - loss: 213.2114 - acc: 0.0000e+00 - val_loss: 146.4369 - val_acc: 0.0000e+00\n",
      "Epoch 72/100\n",
      "5/5 [==============================] - 0s 13ms/step - loss: 211.1640 - acc: 0.0000e+00 - val_loss: 145.6346 - val_acc: 0.0000e+00\n",
      "Epoch 73/100\n",
      "5/5 [==============================] - 0s 13ms/step - loss: 209.3554 - acc: 0.0000e+00 - val_loss: 144.7800 - val_acc: 0.0000e+00\n",
      "Epoch 74/100\n",
      "5/5 [==============================] - 0s 13ms/step - loss: 214.4222 - acc: 0.0000e+00 - val_loss: 144.0408 - val_acc: 0.0000e+00\n",
      "Epoch 75/100\n",
      "5/5 [==============================] - 0s 13ms/step - loss: 208.9300 - acc: 0.0000e+00 - val_loss: 143.3800 - val_acc: 0.0000e+00\n",
      "Epoch 76/100\n",
      "5/5 [==============================] - 0s 14ms/step - loss: 208.2105 - acc: 0.0000e+00 - val_loss: 142.6830 - val_acc: 0.0000e+00\n",
      "Epoch 77/100\n",
      "5/5 [==============================] - 0s 15ms/step - loss: 201.1151 - acc: 0.0000e+00 - val_loss: 141.7126 - val_acc: 0.0000e+00\n",
      "Epoch 78/100\n",
      "5/5 [==============================] - 0s 15ms/step - loss: 209.1352 - acc: 0.0000e+00 - val_loss: 140.7245 - val_acc: 0.0000e+00\n",
      "Epoch 79/100\n",
      "5/5 [==============================] - 0s 13ms/step - loss: 192.0269 - acc: 0.0000e+00 - val_loss: 139.7709 - val_acc: 0.0000e+00\n",
      "Epoch 80/100\n",
      "5/5 [==============================] - 0s 14ms/step - loss: 205.0196 - acc: 0.0000e+00 - val_loss: 138.9330 - val_acc: 0.0000e+00\n",
      "Epoch 81/100\n",
      "5/5 [==============================] - 0s 15ms/step - loss: 209.0026 - acc: 0.0000e+00 - val_loss: 138.0501 - val_acc: 0.0000e+00\n",
      "Epoch 82/100\n",
      "5/5 [==============================] - 0s 14ms/step - loss: 205.1113 - acc: 0.0000e+00 - val_loss: 137.2959 - val_acc: 0.0000e+00\n",
      "Epoch 83/100\n",
      "5/5 [==============================] - 0s 15ms/step - loss: 199.4799 - acc: 0.0000e+00 - val_loss: 136.4888 - val_acc: 0.0000e+00\n",
      "Epoch 84/100\n",
      "5/5 [==============================] - 0s 15ms/step - loss: 190.6643 - acc: 0.0000e+00 - val_loss: 135.7114 - val_acc: 0.0000e+00\n",
      "Epoch 85/100\n",
      "5/5 [==============================] - 0s 14ms/step - loss: 198.9266 - acc: 0.0000e+00 - val_loss: 135.0575 - val_acc: 0.0000e+00\n",
      "Epoch 86/100\n",
      "5/5 [==============================] - 0s 16ms/step - loss: 198.2626 - acc: 0.0000e+00 - val_loss: 134.2637 - val_acc: 0.0000e+00\n",
      "Epoch 87/100\n",
      "5/5 [==============================] - 0s 14ms/step - loss: 195.1063 - acc: 0.0000e+00 - val_loss: 133.5669 - val_acc: 0.0000e+00\n",
      "Epoch 88/100\n",
      "5/5 [==============================] - 0s 13ms/step - loss: 186.1369 - acc: 0.0000e+00 - val_loss: 132.8442 - val_acc: 0.0000e+00\n",
      "Epoch 89/100\n",
      "5/5 [==============================] - 0s 13ms/step - loss: 191.3578 - acc: 0.0000e+00 - val_loss: 132.2526 - val_acc: 0.0000e+00\n",
      "Epoch 90/100\n",
      "5/5 [==============================] - 0s 14ms/step - loss: 191.0106 - acc: 0.0000e+00 - val_loss: 131.7010 - val_acc: 0.0000e+00\n",
      "Epoch 91/100\n",
      "5/5 [==============================] - 0s 13ms/step - loss: 186.8145 - acc: 0.0000e+00 - val_loss: 131.1486 - val_acc: 0.0000e+00\n",
      "Epoch 92/100\n",
      "5/5 [==============================] - 0s 14ms/step - loss: 188.3026 - acc: 0.0000e+00 - val_loss: 130.6176 - val_acc: 0.0000e+00\n",
      "Epoch 93/100\n",
      "5/5 [==============================] - 0s 14ms/step - loss: 180.9260 - acc: 0.0000e+00 - val_loss: 130.0823 - val_acc: 0.0000e+00\n",
      "Epoch 94/100\n",
      "5/5 [==============================] - 0s 16ms/step - loss: 190.8764 - acc: 0.0000e+00 - val_loss: 129.4407 - val_acc: 0.0000e+00\n",
      "Epoch 95/100\n",
      "5/5 [==============================] - 0s 15ms/step - loss: 189.6985 - acc: 0.0000e+00 - val_loss: 128.8855 - val_acc: 0.0000e+00\n",
      "Epoch 96/100\n",
      "5/5 [==============================] - 0s 14ms/step - loss: 181.4678 - acc: 0.0000e+00 - val_loss: 128.0941 - val_acc: 0.0000e+00\n",
      "Epoch 97/100\n",
      "5/5 [==============================] - 0s 14ms/step - loss: 175.8195 - acc: 0.0000e+00 - val_loss: 127.5385 - val_acc: 0.0000e+00\n",
      "Epoch 98/100\n",
      "5/5 [==============================] - 0s 14ms/step - loss: 183.6472 - acc: 0.0000e+00 - val_loss: 126.9521 - val_acc: 0.0000e+00\n",
      "Epoch 99/100\n",
      "5/5 [==============================] - 0s 14ms/step - loss: 187.5333 - acc: 0.0000e+00 - val_loss: 126.4820 - val_acc: 0.0000e+00\n",
      "Epoch 100/100\n",
      "5/5 [==============================] - 0s 15ms/step - loss: 176.9773 - acc: 0.0000e+00 - val_loss: 125.9808 - val_acc: 0.0000e+00\n"
     ]
    },
    {
     "data": {
      "text/plain": [
       "<tensorflow.python.keras.callbacks.History at 0x7f48efa58ed0>"
      ]
     },
     "execution_count": 59,
     "metadata": {
      "tags": []
     },
     "output_type": "execute_result"
    }
   ],
   "source": [
    "model.fit(part_x_train,part_y_train,epochs=100,validation_data=(x_val,y_val),batch_size=128)"
   ]
  },
  {
   "cell_type": "code",
   "execution_count": 60,
   "metadata": {
    "id": "qdcDpdhW1Ire",
    "colab": {
     "base_uri": "https://localhost:8080/"
    },
    "outputId": "49c27433-5acb-4ffe-9866-cd22922bf973"
   },
   "outputs": [
    {
     "name": "stdout",
     "output_type": "stream",
     "text": [
      "10/10 [==============================] - 0s 2ms/step - loss: 179.3798 - acc: 0.0000e+00\n"
     ]
    },
    {
     "data": {
      "text/plain": [
       "[179.37977600097656, 0.0]"
      ]
     },
     "execution_count": 60,
     "metadata": {
      "tags": []
     },
     "output_type": "execute_result"
    }
   ],
   "source": [
    "model.evaluate(x_test,y_test)"
   ]
  },
  {
   "cell_type": "code",
   "execution_count": 61,
   "metadata": {
    "id": "cAk5qndb1Irf",
    "colab": {
     "base_uri": "https://localhost:8080/"
    },
    "outputId": "ed77e880-d933-4271-f055-10da87797ecd"
   },
   "outputs": [
    {
     "name": "stdout",
     "output_type": "stream",
     "text": [
      "13.395184441328583\n"
     ]
    }
   ],
   "source": [
    "pred_train= model.predict(part_x_train)\n",
    "print(np.sqrt(mean_squared_error(part_y_train,pred_train)))"
   ]
  },
  {
   "cell_type": "code",
   "execution_count": 62,
   "metadata": {
    "id": "Vc8WO1hA1Irf",
    "colab": {
     "base_uri": "https://localhost:8080/"
    },
    "outputId": "d946fb9a-5205-48fd-eebe-e34ab017ff54"
   },
   "outputs": [
    {
     "data": {
      "text/plain": [
       "10658.311"
      ]
     },
     "execution_count": 62,
     "metadata": {
      "tags": []
     },
     "output_type": "execute_result"
    }
   ],
   "source": [
    "model.predict(x_test).sum()"
   ]
  },
  {
   "cell_type": "code",
   "execution_count": null,
   "metadata": {
    "id": "Yl6W5twB1Irf"
   },
   "outputs": [],
   "source": [
    ""
   ]
  }
 ],
 "metadata": {
  "kernelspec": {
   "display_name": "Python 3",
   "language": "python",
   "name": "python3"
  },
  "language_info": {
   "codemirror_mode": {
    "name": "ipython",
    "version": 3
   },
   "file_extension": ".py",
   "mimetype": "text/x-python",
   "name": "python",
   "nbconvert_exporter": "python",
   "pygments_lexer": "ipython3",
   "version": "3.8.5"
  },
  "colab": {
   "name": "Concrete Strength.ipynb",
   "provenance": [],
   "collapsed_sections": [],
   "toc_visible": true
  }
 },
 "nbformat": 4,
 "nbformat_minor": 0
}
