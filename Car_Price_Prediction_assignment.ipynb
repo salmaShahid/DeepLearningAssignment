{
 "cells": [
  {
   "cell_type": "markdown",
   "metadata": {
    "id": "8ztSonZYvY-W"
   },
   "source": [
    "# Car Price Prediction::"
   ]
  },
  {
   "cell_type": "markdown",
   "metadata": {
    "id": "R_Y4GoyCvY-h"
   },
   "source": [
    "Download dataset from this link:\n",
    "\n",
    "https://www.kaggle.com/hellbuoy/car-price-prediction"
   ]
  },
  {
   "cell_type": "markdown",
   "metadata": {
    "id": "L8rSd9KZvY-i"
   },
   "source": [
    "# Problem Statement::"
   ]
  },
  {
   "cell_type": "code",
   "execution_count": 1,
   "metadata": {
    "colab": {
     "base_uri": "https://localhost:8080/"
    },
    "id": "ZU22KiT6vn0c",
    "outputId": "6e5be348-aec3-483f-8037-f91cf5e4e0d7"
   },
   "outputs": [
    {
     "name": "stdout",
     "output_type": "stream",
     "text": [
      "Mounted at /content/drive\n"
     ]
    }
   ],
   "source": [
    "from google.colab import drive\n",
    "drive.mount('/content/drive')"
   ]
  },
  {
   "cell_type": "markdown",
   "metadata": {
    "id": "LLJJOB4UvY-i"
   },
   "source": [
    "A Chinese automobile company Geely Auto aspires to enter the US market by setting up their manufacturing unit there and producing cars locally to give competition to their US and European counterparts.\n",
    "\n",
    "They have contracted an automobile consulting company to understand the factors on which the pricing of cars depends. Specifically, they want to understand the factors affecting the pricing of cars in the American market, since those may be very different from the Chinese market. The company wants to know:\n",
    "\n",
    "Which variables are significant in predicting the price of a car\n",
    "How well those variables describe the price of a car\n",
    "Based on various market surveys, the consulting firm has gathered a large data set of different types of cars across the America market.\n",
    "\n",
    "# task::\n",
    "We are required to model the price of cars with the available independent variables. It will be used by the management to understand how exactly the prices vary with the independent variables. They can accordingly manipulate the design of the cars, the business strategy etc. to meet certain price levels. Further, the model will be a good way for management to understand the pricing dynamics of a new market."
   ]
  },
  {
   "cell_type": "markdown",
   "metadata": {
    "id": "iXmtQv6svY-j"
   },
   "source": [
    "# WORKFLOW ::"
   ]
  },
  {
   "cell_type": "markdown",
   "metadata": {
    "id": "qSbjRYZUvY-j"
   },
   "source": [
    "1.Load Data\n",
    "\n",
    "2.Check Missing Values ( If Exist ; Fill each record with mean of its feature )\n",
    "\n",
    "3.Split into 50% Training(Samples,Labels) , 30% Test(Samples,Labels) and 20% Validation Data(Samples,Labels).\n",
    "\n",
    "4.Model : input Layer (No. of features ), 3 hidden layers including 10,8,6 unit & Output Layer with activation function relu/tanh (check by experiment).\n",
    "\n",
    "5.Compilation Step (Note : Its a Regression problem , select loss , metrics according to it)\n",
    "6.Train the Model with Epochs (100) and validate it\n",
    "\n",
    "7.If the model gets overfit tune your model by changing the units , No. of layers , activation function , epochs , add dropout layer or add Regularizer according to the need .\n",
    "\n",
    "8.Evaluation Step\n",
    "\n",
    "9.Prediction"
   ]
  },
  {
   "cell_type": "code",
   "execution_count": null,
   "metadata": {
    "id": "IacVaY4jvzhW"
   },
   "outputs": [],
   "source": [
    ""
   ]
  },
  {
   "cell_type": "code",
   "execution_count": 33,
   "metadata": {
    "id": "4km1Tw66vY-k"
   },
   "outputs": [],
   "source": [
    "#import libraries\n",
    "\n",
    "import numpy as np\n",
    "import pandas as pd\n",
    "import matplotlib.pyplot as plt\n",
    "import tensorflow as tf\n",
    "import tensorflow as tf\n",
    "from tensorflow.keras import models,layers,optimizers,utils\n",
    "from tensorflow.keras.utils import to_categorical\n",
    "from tensorflow.keras.models import Sequential\n",
    "from tensorflow.keras.layers import Dense\n",
    "from sklearn.model_selection import train_test_split\n",
    "from sklearn.preprocessing import StandardScaler"
   ]
  },
  {
   "cell_type": "code",
   "execution_count": 34,
   "metadata": {
    "id": "k2WG9GlFvY-l"
   },
   "outputs": [],
   "source": [
    "#load dataset\n",
    "df=pd.read_csv(\"/content/drive/MyDrive/PIAIC_ASSIGNMENTS/CarPrice_Assignment.csv\")"
   ]
  },
  {
   "cell_type": "code",
   "execution_count": 35,
   "metadata": {
    "id": "AHTG5kgtvY-l",
    "colab": {
     "base_uri": "https://localhost:8080/",
     "height": 275.0
    },
    "outputId": "9dc08c7a-117a-4975-d9f8-5139b5dd310a"
   },
   "outputs": [
    {
     "data": {
      "text/html": [
       "<div>\n",
       "<style scoped>\n",
       "    .dataframe tbody tr th:only-of-type {\n",
       "        vertical-align: middle;\n",
       "    }\n",
       "\n",
       "    .dataframe tbody tr th {\n",
       "        vertical-align: top;\n",
       "    }\n",
       "\n",
       "    .dataframe thead th {\n",
       "        text-align: right;\n",
       "    }\n",
       "</style>\n",
       "<table border=\"1\" class=\"dataframe\">\n",
       "  <thead>\n",
       "    <tr style=\"text-align: right;\">\n",
       "      <th></th>\n",
       "      <th>car_ID</th>\n",
       "      <th>symboling</th>\n",
       "      <th>CarName</th>\n",
       "      <th>fueltype</th>\n",
       "      <th>aspiration</th>\n",
       "      <th>doornumber</th>\n",
       "      <th>carbody</th>\n",
       "      <th>drivewheel</th>\n",
       "      <th>enginelocation</th>\n",
       "      <th>wheelbase</th>\n",
       "      <th>carlength</th>\n",
       "      <th>carwidth</th>\n",
       "      <th>carheight</th>\n",
       "      <th>curbweight</th>\n",
       "      <th>enginetype</th>\n",
       "      <th>cylindernumber</th>\n",
       "      <th>enginesize</th>\n",
       "      <th>fuelsystem</th>\n",
       "      <th>boreratio</th>\n",
       "      <th>stroke</th>\n",
       "      <th>compressionratio</th>\n",
       "      <th>horsepower</th>\n",
       "      <th>peakrpm</th>\n",
       "      <th>citympg</th>\n",
       "      <th>highwaympg</th>\n",
       "      <th>price</th>\n",
       "    </tr>\n",
       "  </thead>\n",
       "  <tbody>\n",
       "    <tr>\n",
       "      <th>0</th>\n",
       "      <td>1</td>\n",
       "      <td>3</td>\n",
       "      <td>alfa-romero giulia</td>\n",
       "      <td>gas</td>\n",
       "      <td>std</td>\n",
       "      <td>two</td>\n",
       "      <td>convertible</td>\n",
       "      <td>rwd</td>\n",
       "      <td>front</td>\n",
       "      <td>88.6</td>\n",
       "      <td>168.8</td>\n",
       "      <td>64.1</td>\n",
       "      <td>48.8</td>\n",
       "      <td>2548</td>\n",
       "      <td>dohc</td>\n",
       "      <td>four</td>\n",
       "      <td>130</td>\n",
       "      <td>mpfi</td>\n",
       "      <td>3.47</td>\n",
       "      <td>2.68</td>\n",
       "      <td>9.0</td>\n",
       "      <td>111</td>\n",
       "      <td>5000</td>\n",
       "      <td>21</td>\n",
       "      <td>27</td>\n",
       "      <td>13495.0</td>\n",
       "    </tr>\n",
       "    <tr>\n",
       "      <th>1</th>\n",
       "      <td>2</td>\n",
       "      <td>3</td>\n",
       "      <td>alfa-romero stelvio</td>\n",
       "      <td>gas</td>\n",
       "      <td>std</td>\n",
       "      <td>two</td>\n",
       "      <td>convertible</td>\n",
       "      <td>rwd</td>\n",
       "      <td>front</td>\n",
       "      <td>88.6</td>\n",
       "      <td>168.8</td>\n",
       "      <td>64.1</td>\n",
       "      <td>48.8</td>\n",
       "      <td>2548</td>\n",
       "      <td>dohc</td>\n",
       "      <td>four</td>\n",
       "      <td>130</td>\n",
       "      <td>mpfi</td>\n",
       "      <td>3.47</td>\n",
       "      <td>2.68</td>\n",
       "      <td>9.0</td>\n",
       "      <td>111</td>\n",
       "      <td>5000</td>\n",
       "      <td>21</td>\n",
       "      <td>27</td>\n",
       "      <td>16500.0</td>\n",
       "    </tr>\n",
       "    <tr>\n",
       "      <th>2</th>\n",
       "      <td>3</td>\n",
       "      <td>1</td>\n",
       "      <td>alfa-romero Quadrifoglio</td>\n",
       "      <td>gas</td>\n",
       "      <td>std</td>\n",
       "      <td>two</td>\n",
       "      <td>hatchback</td>\n",
       "      <td>rwd</td>\n",
       "      <td>front</td>\n",
       "      <td>94.5</td>\n",
       "      <td>171.2</td>\n",
       "      <td>65.5</td>\n",
       "      <td>52.4</td>\n",
       "      <td>2823</td>\n",
       "      <td>ohcv</td>\n",
       "      <td>six</td>\n",
       "      <td>152</td>\n",
       "      <td>mpfi</td>\n",
       "      <td>2.68</td>\n",
       "      <td>3.47</td>\n",
       "      <td>9.0</td>\n",
       "      <td>154</td>\n",
       "      <td>5000</td>\n",
       "      <td>19</td>\n",
       "      <td>26</td>\n",
       "      <td>16500.0</td>\n",
       "    </tr>\n",
       "    <tr>\n",
       "      <th>3</th>\n",
       "      <td>4</td>\n",
       "      <td>2</td>\n",
       "      <td>audi 100 ls</td>\n",
       "      <td>gas</td>\n",
       "      <td>std</td>\n",
       "      <td>four</td>\n",
       "      <td>sedan</td>\n",
       "      <td>fwd</td>\n",
       "      <td>front</td>\n",
       "      <td>99.8</td>\n",
       "      <td>176.6</td>\n",
       "      <td>66.2</td>\n",
       "      <td>54.3</td>\n",
       "      <td>2337</td>\n",
       "      <td>ohc</td>\n",
       "      <td>four</td>\n",
       "      <td>109</td>\n",
       "      <td>mpfi</td>\n",
       "      <td>3.19</td>\n",
       "      <td>3.40</td>\n",
       "      <td>10.0</td>\n",
       "      <td>102</td>\n",
       "      <td>5500</td>\n",
       "      <td>24</td>\n",
       "      <td>30</td>\n",
       "      <td>13950.0</td>\n",
       "    </tr>\n",
       "    <tr>\n",
       "      <th>4</th>\n",
       "      <td>5</td>\n",
       "      <td>2</td>\n",
       "      <td>audi 100ls</td>\n",
       "      <td>gas</td>\n",
       "      <td>std</td>\n",
       "      <td>four</td>\n",
       "      <td>sedan</td>\n",
       "      <td>4wd</td>\n",
       "      <td>front</td>\n",
       "      <td>99.4</td>\n",
       "      <td>176.6</td>\n",
       "      <td>66.4</td>\n",
       "      <td>54.3</td>\n",
       "      <td>2824</td>\n",
       "      <td>ohc</td>\n",
       "      <td>five</td>\n",
       "      <td>136</td>\n",
       "      <td>mpfi</td>\n",
       "      <td>3.19</td>\n",
       "      <td>3.40</td>\n",
       "      <td>8.0</td>\n",
       "      <td>115</td>\n",
       "      <td>5500</td>\n",
       "      <td>18</td>\n",
       "      <td>22</td>\n",
       "      <td>17450.0</td>\n",
       "    </tr>\n",
       "  </tbody>\n",
       "</table>\n",
       "</div>"
      ],
      "text/plain": [
       "   car_ID  symboling                   CarName  ... citympg highwaympg    price\n",
       "0       1          3        alfa-romero giulia  ...      21         27  13495.0\n",
       "1       2          3       alfa-romero stelvio  ...      21         27  16500.0\n",
       "2       3          1  alfa-romero Quadrifoglio  ...      19         26  16500.0\n",
       "3       4          2               audi 100 ls  ...      24         30  13950.0\n",
       "4       5          2                audi 100ls  ...      18         22  17450.0\n",
       "\n",
       "[5 rows x 26 columns]"
      ]
     },
     "execution_count": 35,
     "metadata": {
      "tags": []
     },
     "output_type": "execute_result"
    }
   ],
   "source": [
    "df.head()"
   ]
  },
  {
   "cell_type": "markdown",
   "metadata": {
    "id": "R1w_t-MsxqrO"
   },
   "source": [
    "Check  MIssing Value"
   ]
  },
  {
   "cell_type": "code",
   "execution_count": 50,
   "metadata": {
    "id": "TcIKjYH1xsz-"
   },
   "outputs": [],
   "source": [
    "# creating a dataframe from list\n",
    "df = pd.DataFrame(data)\n",
    "\n",
    "#CHECK MISSING VALUE if exist replace it with mean\n",
    "if df.isnull:\n",
    "  df.fillna(df.mean())\n",
    "  df.head()\n",
    "\n"
   ]
  },
  {
   "cell_type": "code",
   "execution_count": 36,
   "metadata": {
    "id": "Dlt9Sp1wvY-n",
    "colab": {
     "base_uri": "https://localhost:8080/"
    },
    "outputId": "6a2aa2b1-7777-4f59-98b4-11f189b57ce7"
   },
   "outputs": [
    {
     "name": "stdout",
     "output_type": "stream",
     "text": [
      "<class 'pandas.core.frame.DataFrame'>\n",
      "RangeIndex: 205 entries, 0 to 204\n",
      "Data columns (total 26 columns):\n",
      " #   Column            Non-Null Count  Dtype  \n",
      "---  ------            --------------  -----  \n",
      " 0   car_ID            205 non-null    int64  \n",
      " 1   symboling         205 non-null    int64  \n",
      " 2   CarName           205 non-null    object \n",
      " 3   fueltype          205 non-null    object \n",
      " 4   aspiration        205 non-null    object \n",
      " 5   doornumber        205 non-null    object \n",
      " 6   carbody           205 non-null    object \n",
      " 7   drivewheel        205 non-null    object \n",
      " 8   enginelocation    205 non-null    object \n",
      " 9   wheelbase         205 non-null    float64\n",
      " 10  carlength         205 non-null    float64\n",
      " 11  carwidth          205 non-null    float64\n",
      " 12  carheight         205 non-null    float64\n",
      " 13  curbweight        205 non-null    int64  \n",
      " 14  enginetype        205 non-null    object \n",
      " 15  cylindernumber    205 non-null    object \n",
      " 16  enginesize        205 non-null    int64  \n",
      " 17  fuelsystem        205 non-null    object \n",
      " 18  boreratio         205 non-null    float64\n",
      " 19  stroke            205 non-null    float64\n",
      " 20  compressionratio  205 non-null    float64\n",
      " 21  horsepower        205 non-null    int64  \n",
      " 22  peakrpm           205 non-null    int64  \n",
      " 23  citympg           205 non-null    int64  \n",
      " 24  highwaympg        205 non-null    int64  \n",
      " 25  price             205 non-null    float64\n",
      "dtypes: float64(8), int64(8), object(10)\n",
      "memory usage: 41.8+ KB\n"
     ]
    }
   ],
   "source": [
    "#get data info to check object dataype \n",
    "df.info()"
   ]
  },
  {
   "cell_type": "code",
   "execution_count": 37,
   "metadata": {
    "id": "xzy8n9y3vY-n"
   },
   "outputs": [],
   "source": [
    "#drop car price, id and name \n",
    "x=df.drop([\"price\",\"car_ID\",\"CarName\"],axis=1).copy()\n",
    "y=df[\"price\"].copy()"
   ]
  },
  {
   "cell_type": "code",
   "execution_count": 38,
   "metadata": {
    "id": "MrRRHNmLvY-n",
    "colab": {
     "base_uri": "https://localhost:8080/"
    },
    "outputId": "be99a3e5-0149-4eec-c8c2-5e22be8f2843"
   },
   "outputs": [
    {
     "data": {
      "text/plain": [
       "{'aspiration': ['std', 'turbo'],\n",
       " 'carbody': ['convertible', 'hatchback', 'sedan', 'wagon', 'hardtop'],\n",
       " 'cylindernumber': ['four', 'six', 'five', 'three', 'twelve', 'two', 'eight'],\n",
       " 'doornumber': ['two', 'four'],\n",
       " 'drivewheel': ['rwd', 'fwd', '4wd'],\n",
       " 'enginelocation': ['front', 'rear'],\n",
       " 'enginetype': ['dohc', 'ohcv', 'ohc', 'l', 'rotor', 'ohcf', 'dohcv'],\n",
       " 'fuelsystem': ['mpfi', '2bbl', 'mfi', '1bbl', 'spfi', '4bbl', 'idi', 'spdi'],\n",
       " 'fueltype': ['gas', 'diesel']}"
      ]
     },
     "execution_count": 38,
     "metadata": {
      "tags": []
     },
     "output_type": "execute_result"
    }
   ],
   "source": [
    "{column: list(x[column].unique()) for column in x.columns if x.dtypes[column]=='object'}"
   ]
  },
  {
   "cell_type": "code",
   "execution_count": 39,
   "metadata": {
    "id": "-TgcuKFxvY-o"
   },
   "outputs": [],
   "source": [
    "x[\"doornumber\"]=x[\"doornumber\"].apply(lambda x: 0 if x == 'two' else 1)"
   ]
  },
  {
   "cell_type": "code",
   "execution_count": 40,
   "metadata": {
    "id": "vLiVkBLYvY-o"
   },
   "outputs": [],
   "source": [
    "numeric_ordering ={'two':2,'three':3,'four':4,'five':5,'six':6,'eight':8,'twelve':12}"
   ]
  },
  {
   "cell_type": "code",
   "execution_count": 41,
   "metadata": {
    "id": "5_9LKjd6vY-o"
   },
   "outputs": [],
   "source": [
    "x[\"cylindernumber\"] =x[\"cylindernumber\"].replace(numeric_ordering)"
   ]
  },
  {
   "cell_type": "code",
   "execution_count": 42,
   "metadata": {
    "id": "YBc103VSvY-p"
   },
   "outputs": [],
   "source": [
    "def binary_encode(x, columns, positive_values):\n",
    "    x =x.copy()\n",
    "    for column, positive_value in zip(columns, positive_values):\n",
    "        x[column] = x[column].apply(lambda x: 1 if x == positive_value else 0)\n",
    "    return x"
   ]
  },
  {
   "cell_type": "code",
   "execution_count": 43,
   "metadata": {
    "id": "m2Vo2AVDvY-p"
   },
   "outputs": [],
   "source": [
    "binary_features=['fueltype','aspiration','enginelocation',]\n",
    "binary_positive_values=['diesel','turbo','front']\n",
    "x=binary_encode(x,columns=binary_features,positive_values=binary_positive_values)"
   ]
  },
  {
   "cell_type": "code",
   "execution_count": 44,
   "metadata": {
    "id": "YKw9rDOtvY-p"
   },
   "outputs": [],
   "source": [
    "binary_features = ['fueltype','aspiration','enginelocation']\n",
    "binary_positive_values=['diesel','turbo','front']\n",
    "x=binary_encode(x,columns=binary_features,positive_values=binary_positive_values)"
   ]
  },
  {
   "cell_type": "code",
   "execution_count": 45,
   "metadata": {
    "id": "pcZdPZZ2vY-q"
   },
   "outputs": [],
   "source": [
    "def onehot_encode(x, columns, prefixes):\n",
    "    x = x.copy()\n",
    "    for column, prefix in zip(columns, prefixes):\n",
    "        dummies = pd.get_dummies(x[column], prefix=prefix)\n",
    "        x=pd.concat([x, dummies], axis=1)\n",
    "        x=x.drop(column, axis=1)\n",
    "    return x"
   ]
  },
  {
   "cell_type": "code",
   "execution_count": 46,
   "metadata": {
    "id": "5riS5xM0vY-q"
   },
   "outputs": [],
   "source": [
    "nominal_features=['carbody','drivewheel','enginetype','fuelsystem']\n",
    "prefixes=['MK','BS','DW','ET','FS']\n",
    "x=onehot_encode(x,columns=nominal_features,prefixes=prefixes)"
   ]
  },
  {
   "cell_type": "code",
   "execution_count": 47,
   "metadata": {
    "id": "jv2tnnNNvY-q",
    "colab": {
     "base_uri": "https://localhost:8080/",
     "height": 439.0
    },
    "outputId": "c898dab0-03b5-4da2-c8cc-b53466e8c0eb"
   },
   "outputs": [
    {
     "data": {
      "text/html": [
       "<div>\n",
       "<style scoped>\n",
       "    .dataframe tbody tr th:only-of-type {\n",
       "        vertical-align: middle;\n",
       "    }\n",
       "\n",
       "    .dataframe tbody tr th {\n",
       "        vertical-align: top;\n",
       "    }\n",
       "\n",
       "    .dataframe thead th {\n",
       "        text-align: right;\n",
       "    }\n",
       "</style>\n",
       "<table border=\"1\" class=\"dataframe\">\n",
       "  <thead>\n",
       "    <tr style=\"text-align: right;\">\n",
       "      <th></th>\n",
       "      <th>symboling</th>\n",
       "      <th>fueltype</th>\n",
       "      <th>aspiration</th>\n",
       "      <th>doornumber</th>\n",
       "      <th>enginelocation</th>\n",
       "      <th>wheelbase</th>\n",
       "      <th>carlength</th>\n",
       "      <th>carwidth</th>\n",
       "      <th>carheight</th>\n",
       "      <th>curbweight</th>\n",
       "      <th>cylindernumber</th>\n",
       "      <th>enginesize</th>\n",
       "      <th>boreratio</th>\n",
       "      <th>stroke</th>\n",
       "      <th>compressionratio</th>\n",
       "      <th>horsepower</th>\n",
       "      <th>peakrpm</th>\n",
       "      <th>citympg</th>\n",
       "      <th>highwaympg</th>\n",
       "      <th>MK_convertible</th>\n",
       "      <th>MK_hardtop</th>\n",
       "      <th>MK_hatchback</th>\n",
       "      <th>MK_sedan</th>\n",
       "      <th>MK_wagon</th>\n",
       "      <th>BS_4wd</th>\n",
       "      <th>BS_fwd</th>\n",
       "      <th>BS_rwd</th>\n",
       "      <th>DW_dohc</th>\n",
       "      <th>DW_dohcv</th>\n",
       "      <th>DW_l</th>\n",
       "      <th>DW_ohc</th>\n",
       "      <th>DW_ohcf</th>\n",
       "      <th>DW_ohcv</th>\n",
       "      <th>DW_rotor</th>\n",
       "      <th>ET_1bbl</th>\n",
       "      <th>ET_2bbl</th>\n",
       "      <th>ET_4bbl</th>\n",
       "      <th>ET_idi</th>\n",
       "      <th>ET_mfi</th>\n",
       "      <th>ET_mpfi</th>\n",
       "      <th>ET_spdi</th>\n",
       "      <th>ET_spfi</th>\n",
       "    </tr>\n",
       "  </thead>\n",
       "  <tbody>\n",
       "    <tr>\n",
       "      <th>0</th>\n",
       "      <td>3</td>\n",
       "      <td>0</td>\n",
       "      <td>0</td>\n",
       "      <td>0</td>\n",
       "      <td>0</td>\n",
       "      <td>88.6</td>\n",
       "      <td>168.8</td>\n",
       "      <td>64.1</td>\n",
       "      <td>48.8</td>\n",
       "      <td>2548</td>\n",
       "      <td>4</td>\n",
       "      <td>130</td>\n",
       "      <td>3.47</td>\n",
       "      <td>2.68</td>\n",
       "      <td>9.0</td>\n",
       "      <td>111</td>\n",
       "      <td>5000</td>\n",
       "      <td>21</td>\n",
       "      <td>27</td>\n",
       "      <td>1</td>\n",
       "      <td>0</td>\n",
       "      <td>0</td>\n",
       "      <td>0</td>\n",
       "      <td>0</td>\n",
       "      <td>0</td>\n",
       "      <td>0</td>\n",
       "      <td>1</td>\n",
       "      <td>1</td>\n",
       "      <td>0</td>\n",
       "      <td>0</td>\n",
       "      <td>0</td>\n",
       "      <td>0</td>\n",
       "      <td>0</td>\n",
       "      <td>0</td>\n",
       "      <td>0</td>\n",
       "      <td>0</td>\n",
       "      <td>0</td>\n",
       "      <td>0</td>\n",
       "      <td>0</td>\n",
       "      <td>1</td>\n",
       "      <td>0</td>\n",
       "      <td>0</td>\n",
       "    </tr>\n",
       "    <tr>\n",
       "      <th>1</th>\n",
       "      <td>3</td>\n",
       "      <td>0</td>\n",
       "      <td>0</td>\n",
       "      <td>0</td>\n",
       "      <td>0</td>\n",
       "      <td>88.6</td>\n",
       "      <td>168.8</td>\n",
       "      <td>64.1</td>\n",
       "      <td>48.8</td>\n",
       "      <td>2548</td>\n",
       "      <td>4</td>\n",
       "      <td>130</td>\n",
       "      <td>3.47</td>\n",
       "      <td>2.68</td>\n",
       "      <td>9.0</td>\n",
       "      <td>111</td>\n",
       "      <td>5000</td>\n",
       "      <td>21</td>\n",
       "      <td>27</td>\n",
       "      <td>1</td>\n",
       "      <td>0</td>\n",
       "      <td>0</td>\n",
       "      <td>0</td>\n",
       "      <td>0</td>\n",
       "      <td>0</td>\n",
       "      <td>0</td>\n",
       "      <td>1</td>\n",
       "      <td>1</td>\n",
       "      <td>0</td>\n",
       "      <td>0</td>\n",
       "      <td>0</td>\n",
       "      <td>0</td>\n",
       "      <td>0</td>\n",
       "      <td>0</td>\n",
       "      <td>0</td>\n",
       "      <td>0</td>\n",
       "      <td>0</td>\n",
       "      <td>0</td>\n",
       "      <td>0</td>\n",
       "      <td>1</td>\n",
       "      <td>0</td>\n",
       "      <td>0</td>\n",
       "    </tr>\n",
       "    <tr>\n",
       "      <th>2</th>\n",
       "      <td>1</td>\n",
       "      <td>0</td>\n",
       "      <td>0</td>\n",
       "      <td>0</td>\n",
       "      <td>0</td>\n",
       "      <td>94.5</td>\n",
       "      <td>171.2</td>\n",
       "      <td>65.5</td>\n",
       "      <td>52.4</td>\n",
       "      <td>2823</td>\n",
       "      <td>6</td>\n",
       "      <td>152</td>\n",
       "      <td>2.68</td>\n",
       "      <td>3.47</td>\n",
       "      <td>9.0</td>\n",
       "      <td>154</td>\n",
       "      <td>5000</td>\n",
       "      <td>19</td>\n",
       "      <td>26</td>\n",
       "      <td>0</td>\n",
       "      <td>0</td>\n",
       "      <td>1</td>\n",
       "      <td>0</td>\n",
       "      <td>0</td>\n",
       "      <td>0</td>\n",
       "      <td>0</td>\n",
       "      <td>1</td>\n",
       "      <td>0</td>\n",
       "      <td>0</td>\n",
       "      <td>0</td>\n",
       "      <td>0</td>\n",
       "      <td>0</td>\n",
       "      <td>1</td>\n",
       "      <td>0</td>\n",
       "      <td>0</td>\n",
       "      <td>0</td>\n",
       "      <td>0</td>\n",
       "      <td>0</td>\n",
       "      <td>0</td>\n",
       "      <td>1</td>\n",
       "      <td>0</td>\n",
       "      <td>0</td>\n",
       "    </tr>\n",
       "    <tr>\n",
       "      <th>3</th>\n",
       "      <td>2</td>\n",
       "      <td>0</td>\n",
       "      <td>0</td>\n",
       "      <td>1</td>\n",
       "      <td>0</td>\n",
       "      <td>99.8</td>\n",
       "      <td>176.6</td>\n",
       "      <td>66.2</td>\n",
       "      <td>54.3</td>\n",
       "      <td>2337</td>\n",
       "      <td>4</td>\n",
       "      <td>109</td>\n",
       "      <td>3.19</td>\n",
       "      <td>3.40</td>\n",
       "      <td>10.0</td>\n",
       "      <td>102</td>\n",
       "      <td>5500</td>\n",
       "      <td>24</td>\n",
       "      <td>30</td>\n",
       "      <td>0</td>\n",
       "      <td>0</td>\n",
       "      <td>0</td>\n",
       "      <td>1</td>\n",
       "      <td>0</td>\n",
       "      <td>0</td>\n",
       "      <td>1</td>\n",
       "      <td>0</td>\n",
       "      <td>0</td>\n",
       "      <td>0</td>\n",
       "      <td>0</td>\n",
       "      <td>1</td>\n",
       "      <td>0</td>\n",
       "      <td>0</td>\n",
       "      <td>0</td>\n",
       "      <td>0</td>\n",
       "      <td>0</td>\n",
       "      <td>0</td>\n",
       "      <td>0</td>\n",
       "      <td>0</td>\n",
       "      <td>1</td>\n",
       "      <td>0</td>\n",
       "      <td>0</td>\n",
       "    </tr>\n",
       "    <tr>\n",
       "      <th>4</th>\n",
       "      <td>2</td>\n",
       "      <td>0</td>\n",
       "      <td>0</td>\n",
       "      <td>1</td>\n",
       "      <td>0</td>\n",
       "      <td>99.4</td>\n",
       "      <td>176.6</td>\n",
       "      <td>66.4</td>\n",
       "      <td>54.3</td>\n",
       "      <td>2824</td>\n",
       "      <td>5</td>\n",
       "      <td>136</td>\n",
       "      <td>3.19</td>\n",
       "      <td>3.40</td>\n",
       "      <td>8.0</td>\n",
       "      <td>115</td>\n",
       "      <td>5500</td>\n",
       "      <td>18</td>\n",
       "      <td>22</td>\n",
       "      <td>0</td>\n",
       "      <td>0</td>\n",
       "      <td>0</td>\n",
       "      <td>1</td>\n",
       "      <td>0</td>\n",
       "      <td>1</td>\n",
       "      <td>0</td>\n",
       "      <td>0</td>\n",
       "      <td>0</td>\n",
       "      <td>0</td>\n",
       "      <td>0</td>\n",
       "      <td>1</td>\n",
       "      <td>0</td>\n",
       "      <td>0</td>\n",
       "      <td>0</td>\n",
       "      <td>0</td>\n",
       "      <td>0</td>\n",
       "      <td>0</td>\n",
       "      <td>0</td>\n",
       "      <td>0</td>\n",
       "      <td>1</td>\n",
       "      <td>0</td>\n",
       "      <td>0</td>\n",
       "    </tr>\n",
       "    <tr>\n",
       "      <th>...</th>\n",
       "      <td>...</td>\n",
       "      <td>...</td>\n",
       "      <td>...</td>\n",
       "      <td>...</td>\n",
       "      <td>...</td>\n",
       "      <td>...</td>\n",
       "      <td>...</td>\n",
       "      <td>...</td>\n",
       "      <td>...</td>\n",
       "      <td>...</td>\n",
       "      <td>...</td>\n",
       "      <td>...</td>\n",
       "      <td>...</td>\n",
       "      <td>...</td>\n",
       "      <td>...</td>\n",
       "      <td>...</td>\n",
       "      <td>...</td>\n",
       "      <td>...</td>\n",
       "      <td>...</td>\n",
       "      <td>...</td>\n",
       "      <td>...</td>\n",
       "      <td>...</td>\n",
       "      <td>...</td>\n",
       "      <td>...</td>\n",
       "      <td>...</td>\n",
       "      <td>...</td>\n",
       "      <td>...</td>\n",
       "      <td>...</td>\n",
       "      <td>...</td>\n",
       "      <td>...</td>\n",
       "      <td>...</td>\n",
       "      <td>...</td>\n",
       "      <td>...</td>\n",
       "      <td>...</td>\n",
       "      <td>...</td>\n",
       "      <td>...</td>\n",
       "      <td>...</td>\n",
       "      <td>...</td>\n",
       "      <td>...</td>\n",
       "      <td>...</td>\n",
       "      <td>...</td>\n",
       "      <td>...</td>\n",
       "    </tr>\n",
       "    <tr>\n",
       "      <th>200</th>\n",
       "      <td>-1</td>\n",
       "      <td>0</td>\n",
       "      <td>0</td>\n",
       "      <td>1</td>\n",
       "      <td>0</td>\n",
       "      <td>109.1</td>\n",
       "      <td>188.8</td>\n",
       "      <td>68.9</td>\n",
       "      <td>55.5</td>\n",
       "      <td>2952</td>\n",
       "      <td>4</td>\n",
       "      <td>141</td>\n",
       "      <td>3.78</td>\n",
       "      <td>3.15</td>\n",
       "      <td>9.5</td>\n",
       "      <td>114</td>\n",
       "      <td>5400</td>\n",
       "      <td>23</td>\n",
       "      <td>28</td>\n",
       "      <td>0</td>\n",
       "      <td>0</td>\n",
       "      <td>0</td>\n",
       "      <td>1</td>\n",
       "      <td>0</td>\n",
       "      <td>0</td>\n",
       "      <td>0</td>\n",
       "      <td>1</td>\n",
       "      <td>0</td>\n",
       "      <td>0</td>\n",
       "      <td>0</td>\n",
       "      <td>1</td>\n",
       "      <td>0</td>\n",
       "      <td>0</td>\n",
       "      <td>0</td>\n",
       "      <td>0</td>\n",
       "      <td>0</td>\n",
       "      <td>0</td>\n",
       "      <td>0</td>\n",
       "      <td>0</td>\n",
       "      <td>1</td>\n",
       "      <td>0</td>\n",
       "      <td>0</td>\n",
       "    </tr>\n",
       "    <tr>\n",
       "      <th>201</th>\n",
       "      <td>-1</td>\n",
       "      <td>0</td>\n",
       "      <td>0</td>\n",
       "      <td>1</td>\n",
       "      <td>0</td>\n",
       "      <td>109.1</td>\n",
       "      <td>188.8</td>\n",
       "      <td>68.8</td>\n",
       "      <td>55.5</td>\n",
       "      <td>3049</td>\n",
       "      <td>4</td>\n",
       "      <td>141</td>\n",
       "      <td>3.78</td>\n",
       "      <td>3.15</td>\n",
       "      <td>8.7</td>\n",
       "      <td>160</td>\n",
       "      <td>5300</td>\n",
       "      <td>19</td>\n",
       "      <td>25</td>\n",
       "      <td>0</td>\n",
       "      <td>0</td>\n",
       "      <td>0</td>\n",
       "      <td>1</td>\n",
       "      <td>0</td>\n",
       "      <td>0</td>\n",
       "      <td>0</td>\n",
       "      <td>1</td>\n",
       "      <td>0</td>\n",
       "      <td>0</td>\n",
       "      <td>0</td>\n",
       "      <td>1</td>\n",
       "      <td>0</td>\n",
       "      <td>0</td>\n",
       "      <td>0</td>\n",
       "      <td>0</td>\n",
       "      <td>0</td>\n",
       "      <td>0</td>\n",
       "      <td>0</td>\n",
       "      <td>0</td>\n",
       "      <td>1</td>\n",
       "      <td>0</td>\n",
       "      <td>0</td>\n",
       "    </tr>\n",
       "    <tr>\n",
       "      <th>202</th>\n",
       "      <td>-1</td>\n",
       "      <td>0</td>\n",
       "      <td>0</td>\n",
       "      <td>1</td>\n",
       "      <td>0</td>\n",
       "      <td>109.1</td>\n",
       "      <td>188.8</td>\n",
       "      <td>68.9</td>\n",
       "      <td>55.5</td>\n",
       "      <td>3012</td>\n",
       "      <td>6</td>\n",
       "      <td>173</td>\n",
       "      <td>3.58</td>\n",
       "      <td>2.87</td>\n",
       "      <td>8.8</td>\n",
       "      <td>134</td>\n",
       "      <td>5500</td>\n",
       "      <td>18</td>\n",
       "      <td>23</td>\n",
       "      <td>0</td>\n",
       "      <td>0</td>\n",
       "      <td>0</td>\n",
       "      <td>1</td>\n",
       "      <td>0</td>\n",
       "      <td>0</td>\n",
       "      <td>0</td>\n",
       "      <td>1</td>\n",
       "      <td>0</td>\n",
       "      <td>0</td>\n",
       "      <td>0</td>\n",
       "      <td>0</td>\n",
       "      <td>0</td>\n",
       "      <td>1</td>\n",
       "      <td>0</td>\n",
       "      <td>0</td>\n",
       "      <td>0</td>\n",
       "      <td>0</td>\n",
       "      <td>0</td>\n",
       "      <td>0</td>\n",
       "      <td>1</td>\n",
       "      <td>0</td>\n",
       "      <td>0</td>\n",
       "    </tr>\n",
       "    <tr>\n",
       "      <th>203</th>\n",
       "      <td>-1</td>\n",
       "      <td>0</td>\n",
       "      <td>0</td>\n",
       "      <td>1</td>\n",
       "      <td>0</td>\n",
       "      <td>109.1</td>\n",
       "      <td>188.8</td>\n",
       "      <td>68.9</td>\n",
       "      <td>55.5</td>\n",
       "      <td>3217</td>\n",
       "      <td>6</td>\n",
       "      <td>145</td>\n",
       "      <td>3.01</td>\n",
       "      <td>3.40</td>\n",
       "      <td>23.0</td>\n",
       "      <td>106</td>\n",
       "      <td>4800</td>\n",
       "      <td>26</td>\n",
       "      <td>27</td>\n",
       "      <td>0</td>\n",
       "      <td>0</td>\n",
       "      <td>0</td>\n",
       "      <td>1</td>\n",
       "      <td>0</td>\n",
       "      <td>0</td>\n",
       "      <td>0</td>\n",
       "      <td>1</td>\n",
       "      <td>0</td>\n",
       "      <td>0</td>\n",
       "      <td>0</td>\n",
       "      <td>1</td>\n",
       "      <td>0</td>\n",
       "      <td>0</td>\n",
       "      <td>0</td>\n",
       "      <td>0</td>\n",
       "      <td>0</td>\n",
       "      <td>0</td>\n",
       "      <td>1</td>\n",
       "      <td>0</td>\n",
       "      <td>0</td>\n",
       "      <td>0</td>\n",
       "      <td>0</td>\n",
       "    </tr>\n",
       "    <tr>\n",
       "      <th>204</th>\n",
       "      <td>-1</td>\n",
       "      <td>0</td>\n",
       "      <td>0</td>\n",
       "      <td>1</td>\n",
       "      <td>0</td>\n",
       "      <td>109.1</td>\n",
       "      <td>188.8</td>\n",
       "      <td>68.9</td>\n",
       "      <td>55.5</td>\n",
       "      <td>3062</td>\n",
       "      <td>4</td>\n",
       "      <td>141</td>\n",
       "      <td>3.78</td>\n",
       "      <td>3.15</td>\n",
       "      <td>9.5</td>\n",
       "      <td>114</td>\n",
       "      <td>5400</td>\n",
       "      <td>19</td>\n",
       "      <td>25</td>\n",
       "      <td>0</td>\n",
       "      <td>0</td>\n",
       "      <td>0</td>\n",
       "      <td>1</td>\n",
       "      <td>0</td>\n",
       "      <td>0</td>\n",
       "      <td>0</td>\n",
       "      <td>1</td>\n",
       "      <td>0</td>\n",
       "      <td>0</td>\n",
       "      <td>0</td>\n",
       "      <td>1</td>\n",
       "      <td>0</td>\n",
       "      <td>0</td>\n",
       "      <td>0</td>\n",
       "      <td>0</td>\n",
       "      <td>0</td>\n",
       "      <td>0</td>\n",
       "      <td>0</td>\n",
       "      <td>0</td>\n",
       "      <td>1</td>\n",
       "      <td>0</td>\n",
       "      <td>0</td>\n",
       "    </tr>\n",
       "  </tbody>\n",
       "</table>\n",
       "<p>205 rows × 42 columns</p>\n",
       "</div>"
      ],
      "text/plain": [
       "     symboling  fueltype  aspiration  ...  ET_mpfi  ET_spdi  ET_spfi\n",
       "0            3         0           0  ...        1        0        0\n",
       "1            3         0           0  ...        1        0        0\n",
       "2            1         0           0  ...        1        0        0\n",
       "3            2         0           0  ...        1        0        0\n",
       "4            2         0           0  ...        1        0        0\n",
       "..         ...       ...         ...  ...      ...      ...      ...\n",
       "200         -1         0           0  ...        1        0        0\n",
       "201         -1         0           0  ...        1        0        0\n",
       "202         -1         0           0  ...        1        0        0\n",
       "203         -1         0           0  ...        0        0        0\n",
       "204         -1         0           0  ...        1        0        0\n",
       "\n",
       "[205 rows x 42 columns]"
      ]
     },
     "execution_count": 47,
     "metadata": {
      "tags": []
     },
     "output_type": "execute_result"
    }
   ],
   "source": [
    "x"
   ]
  },
  {
   "cell_type": "markdown",
   "metadata": {
    "id": "JpDzweqYxeGg"
   },
   "source": [
    "Split into 50% Training(Samples,Labels) , 30% Test(Samples,Labels) and 20% Validation Data(Samples,Labels)."
   ]
  },
  {
   "cell_type": "code",
   "execution_count": 51,
   "metadata": {
    "id": "laLp4Da1vY-r"
   },
   "outputs": [],
   "source": [
    "x_train,x_test,y_train,y_test=train_test_split(x,y,train_size=0.7,random_state=123)"
   ]
  },
  {
   "cell_type": "code",
   "execution_count": 52,
   "metadata": {
    "id": "Km2zDXwfvY-r",
    "colab": {
     "base_uri": "https://localhost:8080/"
    },
    "outputId": "c9c0a740-bb2e-42ba-a4dd-0c5182140e68"
   },
   "outputs": [
    {
     "data": {
      "text/plain": [
       "StandardScaler(copy=True, with_mean=True, with_std=True)"
      ]
     },
     "execution_count": 52,
     "metadata": {
      "tags": []
     },
     "output_type": "execute_result"
    }
   ],
   "source": [
    "scaler = StandardScaler()\n",
    "scaler.fit(x_train)"
   ]
  },
  {
   "cell_type": "code",
   "execution_count": 53,
   "metadata": {
    "id": "Of2Bql83vY-s"
   },
   "outputs": [],
   "source": [
    "x_train =pd.DataFrame(scaler.transform(x_train),columns=x_train.columns)\n",
    "x_test=pd.DataFrame(scaler.transform(x_test),columns=x_test.columns)"
   ]
  },
  {
   "cell_type": "code",
   "execution_count": 54,
   "metadata": {
    "id": "_fpM7TMQvY-u"
   },
   "outputs": [],
   "source": [
    "part_x_train,x_val,part_y_train,y_val=train_test_split(x_train,y_train,test_size=0.2,random_state=2)"
   ]
  },
  {
   "cell_type": "markdown",
   "metadata": {
    "id": "zo0wdto7yCwm"
   },
   "source": [
    "Model : input Layer (No. of features ), 3 hidden layers including 10,8,6 unit & Output Layer with activation function relu/tanh (check by experiment)."
   ]
  },
  {
   "cell_type": "code",
   "execution_count": 59,
   "metadata": {
    "id": "gy2UTuLwvY-v"
   },
   "outputs": [],
   "source": [
    "model = Sequential()\n",
    "model.add(Dense(12, input_dim=42, kernel_initializer='normal', activation='relu'))\n",
    "model.add(Dense(8, activation='relu'))\n",
    "model.add(Dense(1, activation='linear'))\n",
    "model.compile(loss='mse', optimizer='adam', metrics=['mse','mae'])"
   ]
  },
  {
   "cell_type": "markdown",
   "metadata": {
    "id": "oJJi0DsHyGlw"
   },
   "source": [
    "Compilation Step (Note : Its a Regression problem , select loss , metrics according to it) 6.Train the Model with Epochs (100) and validate it"
   ]
  },
  {
   "cell_type": "code",
   "execution_count": 60,
   "metadata": {
    "id": "uVo-xEBAvY-w",
    "colab": {
     "base_uri": "https://localhost:8080/"
    },
    "outputId": "1f8fbe40-7bbe-48a2-cf44-3cf14941e79d"
   },
   "outputs": [
    {
     "name": "stdout",
     "output_type": "stream",
     "text": [
      "Epoch 1/100\n",
      "1/1 [==============================] - 1s 764ms/step - loss: 263509008.0000 - mse: 263509008.0000 - mae: 14128.1934 - val_loss: 334190208.0000 - val_mse: 334190208.0000 - val_mae: 14966.6465\n",
      "Epoch 2/100\n",
      "1/1 [==============================] - 0s 50ms/step - loss: 263508544.0000 - mse: 263508544.0000 - mae: 14128.1816 - val_loss: 334189696.0000 - val_mse: 334189696.0000 - val_mae: 14966.6348\n",
      "Epoch 3/100\n",
      "1/1 [==============================] - 0s 57ms/step - loss: 263508096.0000 - mse: 263508096.0000 - mae: 14128.1719 - val_loss: 334189184.0000 - val_mse: 334189184.0000 - val_mae: 14966.6240\n",
      "Epoch 4/100\n",
      "1/1 [==============================] - 0s 62ms/step - loss: 263507616.0000 - mse: 263507616.0000 - mae: 14128.1602 - val_loss: 334188672.0000 - val_mse: 334188672.0000 - val_mae: 14966.6123\n",
      "Epoch 5/100\n",
      "1/1 [==============================] - 0s 57ms/step - loss: 263507152.0000 - mse: 263507152.0000 - mae: 14128.1484 - val_loss: 334188128.0000 - val_mse: 334188128.0000 - val_mae: 14966.6006\n",
      "Epoch 6/100\n",
      "1/1 [==============================] - 0s 56ms/step - loss: 263506672.0000 - mse: 263506672.0000 - mae: 14128.1357 - val_loss: 334187584.0000 - val_mse: 334187584.0000 - val_mae: 14966.5879\n",
      "Epoch 7/100\n",
      "1/1 [==============================] - 0s 54ms/step - loss: 263506176.0000 - mse: 263506176.0000 - mae: 14128.1250 - val_loss: 334187040.0000 - val_mse: 334187040.0000 - val_mae: 14966.5762\n",
      "Epoch 8/100\n",
      "1/1 [==============================] - 0s 53ms/step - loss: 263505728.0000 - mse: 263505728.0000 - mae: 14128.1133 - val_loss: 334186432.0000 - val_mse: 334186432.0000 - val_mae: 14966.5645\n",
      "Epoch 9/100\n",
      "1/1 [==============================] - 0s 53ms/step - loss: 263505280.0000 - mse: 263505280.0000 - mae: 14128.1006 - val_loss: 334185856.0000 - val_mse: 334185856.0000 - val_mae: 14966.5527\n",
      "Epoch 10/100\n",
      "1/1 [==============================] - 0s 56ms/step - loss: 263504832.0000 - mse: 263504832.0000 - mae: 14128.0898 - val_loss: 334185280.0000 - val_mse: 334185280.0000 - val_mae: 14966.5400\n",
      "Epoch 11/100\n",
      "1/1 [==============================] - 0s 52ms/step - loss: 263504368.0000 - mse: 263504368.0000 - mae: 14128.0781 - val_loss: 334184672.0000 - val_mse: 334184672.0000 - val_mae: 14966.5254\n",
      "Epoch 12/100\n",
      "1/1 [==============================] - 0s 51ms/step - loss: 263503936.0000 - mse: 263503936.0000 - mae: 14128.0645 - val_loss: 334184096.0000 - val_mse: 334184096.0000 - val_mae: 14966.5127\n",
      "Epoch 13/100\n",
      "1/1 [==============================] - 0s 62ms/step - loss: 263503456.0000 - mse: 263503456.0000 - mae: 14128.0518 - val_loss: 334183456.0000 - val_mse: 334183456.0000 - val_mae: 14966.5000\n",
      "Epoch 14/100\n",
      "1/1 [==============================] - 0s 64ms/step - loss: 263502992.0000 - mse: 263502992.0000 - mae: 14128.0391 - val_loss: 334182816.0000 - val_mse: 334182816.0000 - val_mae: 14966.4863\n",
      "Epoch 15/100\n",
      "1/1 [==============================] - 0s 64ms/step - loss: 263502528.0000 - mse: 263502528.0000 - mae: 14128.0254 - val_loss: 334182208.0000 - val_mse: 334182208.0000 - val_mae: 14966.4717\n",
      "Epoch 16/100\n",
      "1/1 [==============================] - 0s 56ms/step - loss: 263502032.0000 - mse: 263502032.0000 - mae: 14128.0117 - val_loss: 334181600.0000 - val_mse: 334181600.0000 - val_mae: 14966.4580\n",
      "Epoch 17/100\n",
      "1/1 [==============================] - 0s 62ms/step - loss: 263501536.0000 - mse: 263501536.0000 - mae: 14128.0000 - val_loss: 334180992.0000 - val_mse: 334180992.0000 - val_mae: 14966.4443\n",
      "Epoch 18/100\n",
      "1/1 [==============================] - 0s 55ms/step - loss: 263501056.0000 - mse: 263501056.0000 - mae: 14127.9854 - val_loss: 334180352.0000 - val_mse: 334180352.0000 - val_mae: 14966.4307\n",
      "Epoch 19/100\n",
      "1/1 [==============================] - 0s 56ms/step - loss: 263500528.0000 - mse: 263500528.0000 - mae: 14127.9717 - val_loss: 334179712.0000 - val_mse: 334179712.0000 - val_mae: 14966.4160\n",
      "Epoch 20/100\n",
      "1/1 [==============================] - 0s 56ms/step - loss: 263500032.0000 - mse: 263500032.0000 - mae: 14127.9580 - val_loss: 334179072.0000 - val_mse: 334179072.0000 - val_mae: 14966.4004\n",
      "Epoch 21/100\n",
      "1/1 [==============================] - 0s 54ms/step - loss: 263499488.0000 - mse: 263499488.0000 - mae: 14127.9434 - val_loss: 334178400.0000 - val_mse: 334178400.0000 - val_mae: 14966.3877\n",
      "Epoch 22/100\n",
      "1/1 [==============================] - 0s 54ms/step - loss: 263498928.0000 - mse: 263498928.0000 - mae: 14127.9297 - val_loss: 334177728.0000 - val_mse: 334177728.0000 - val_mae: 14966.3721\n",
      "Epoch 23/100\n",
      "1/1 [==============================] - 0s 61ms/step - loss: 263498416.0000 - mse: 263498416.0000 - mae: 14127.9141 - val_loss: 334176992.0000 - val_mse: 334176992.0000 - val_mae: 14966.3574\n",
      "Epoch 24/100\n",
      "1/1 [==============================] - 0s 52ms/step - loss: 263497840.0000 - mse: 263497840.0000 - mae: 14127.8984 - val_loss: 334176320.0000 - val_mse: 334176320.0000 - val_mae: 14966.3428\n",
      "Epoch 25/100\n",
      "1/1 [==============================] - 0s 54ms/step - loss: 263497248.0000 - mse: 263497248.0000 - mae: 14127.8838 - val_loss: 334175552.0000 - val_mse: 334175552.0000 - val_mae: 14966.3271\n",
      "Epoch 26/100\n",
      "1/1 [==============================] - 0s 56ms/step - loss: 263496672.0000 - mse: 263496672.0000 - mae: 14127.8682 - val_loss: 334174848.0000 - val_mse: 334174848.0000 - val_mae: 14966.3105\n",
      "Epoch 27/100\n",
      "1/1 [==============================] - 0s 55ms/step - loss: 263496032.0000 - mse: 263496032.0000 - mae: 14127.8516 - val_loss: 334174080.0000 - val_mse: 334174080.0000 - val_mae: 14966.2939\n",
      "Epoch 28/100\n",
      "1/1 [==============================] - 0s 67ms/step - loss: 263495408.0000 - mse: 263495408.0000 - mae: 14127.8359 - val_loss: 334173280.0000 - val_mse: 334173280.0000 - val_mae: 14966.2783\n",
      "Epoch 29/100\n",
      "1/1 [==============================] - 0s 69ms/step - loss: 263494768.0000 - mse: 263494768.0000 - mae: 14127.8184 - val_loss: 334172448.0000 - val_mse: 334172448.0000 - val_mae: 14966.2607\n",
      "Epoch 30/100\n",
      "1/1 [==============================] - 0s 59ms/step - loss: 263494112.0000 - mse: 263494112.0000 - mae: 14127.8027 - val_loss: 334171584.0000 - val_mse: 334171584.0000 - val_mae: 14966.2422\n",
      "Epoch 31/100\n",
      "1/1 [==============================] - 0s 57ms/step - loss: 263493472.0000 - mse: 263493472.0000 - mae: 14127.7852 - val_loss: 334170752.0000 - val_mse: 334170752.0000 - val_mae: 14966.2256\n",
      "Epoch 32/100\n",
      "1/1 [==============================] - 0s 52ms/step - loss: 263492752.0000 - mse: 263492752.0000 - mae: 14127.7666 - val_loss: 334169888.0000 - val_mse: 334169888.0000 - val_mae: 14966.2070\n",
      "Epoch 33/100\n",
      "1/1 [==============================] - 0s 62ms/step - loss: 263492064.0000 - mse: 263492064.0000 - mae: 14127.7490 - val_loss: 334168960.0000 - val_mse: 334168960.0000 - val_mae: 14966.1885\n",
      "Epoch 34/100\n",
      "1/1 [==============================] - 0s 67ms/step - loss: 263491376.0000 - mse: 263491376.0000 - mae: 14127.7324 - val_loss: 334168000.0000 - val_mse: 334168000.0000 - val_mae: 14966.1680\n",
      "Epoch 35/100\n",
      "1/1 [==============================] - 0s 56ms/step - loss: 263490656.0000 - mse: 263490656.0000 - mae: 14127.7129 - val_loss: 334167040.0000 - val_mse: 334167040.0000 - val_mae: 14966.1475\n",
      "Epoch 36/100\n",
      "1/1 [==============================] - 0s 55ms/step - loss: 263489888.0000 - mse: 263489888.0000 - mae: 14127.6953 - val_loss: 334166016.0000 - val_mse: 334166016.0000 - val_mae: 14966.1279\n",
      "Epoch 37/100\n",
      "1/1 [==============================] - 0s 56ms/step - loss: 263489152.0000 - mse: 263489152.0000 - mae: 14127.6758 - val_loss: 334164992.0000 - val_mse: 334164992.0000 - val_mae: 14966.1064\n",
      "Epoch 38/100\n",
      "1/1 [==============================] - 0s 59ms/step - loss: 263488368.0000 - mse: 263488368.0000 - mae: 14127.6553 - val_loss: 334163904.0000 - val_mse: 334163904.0000 - val_mae: 14966.0840\n",
      "Epoch 39/100\n",
      "1/1 [==============================] - 0s 52ms/step - loss: 263487584.0000 - mse: 263487584.0000 - mae: 14127.6357 - val_loss: 334162848.0000 - val_mse: 334162848.0000 - val_mae: 14966.0635\n",
      "Epoch 40/100\n",
      "1/1 [==============================] - 0s 59ms/step - loss: 263486768.0000 - mse: 263486768.0000 - mae: 14127.6152 - val_loss: 334161696.0000 - val_mse: 334161696.0000 - val_mae: 14966.0400\n",
      "Epoch 41/100\n",
      "1/1 [==============================] - 0s 55ms/step - loss: 263485920.0000 - mse: 263485920.0000 - mae: 14127.5947 - val_loss: 334160608.0000 - val_mse: 334160608.0000 - val_mae: 14966.0166\n",
      "Epoch 42/100\n",
      "1/1 [==============================] - 0s 62ms/step - loss: 263485104.0000 - mse: 263485104.0000 - mae: 14127.5723 - val_loss: 334159456.0000 - val_mse: 334159456.0000 - val_mae: 14965.9922\n",
      "Epoch 43/100\n",
      "1/1 [==============================] - 0s 54ms/step - loss: 263484240.0000 - mse: 263484240.0000 - mae: 14127.5508 - val_loss: 334158208.0000 - val_mse: 334158208.0000 - val_mae: 14965.9678\n",
      "Epoch 44/100\n",
      "1/1 [==============================] - 0s 55ms/step - loss: 263483344.0000 - mse: 263483344.0000 - mae: 14127.5283 - val_loss: 334156928.0000 - val_mse: 334156928.0000 - val_mae: 14965.9414\n",
      "Epoch 45/100\n",
      "1/1 [==============================] - 0s 71ms/step - loss: 263482432.0000 - mse: 263482432.0000 - mae: 14127.5039 - val_loss: 334155712.0000 - val_mse: 334155712.0000 - val_mae: 14965.9160\n",
      "Epoch 46/100\n",
      "1/1 [==============================] - 0s 63ms/step - loss: 263481536.0000 - mse: 263481536.0000 - mae: 14127.4805 - val_loss: 334154432.0000 - val_mse: 334154432.0000 - val_mae: 14965.8877\n",
      "Epoch 47/100\n",
      "1/1 [==============================] - 0s 59ms/step - loss: 263480592.0000 - mse: 263480592.0000 - mae: 14127.4561 - val_loss: 334153088.0000 - val_mse: 334153088.0000 - val_mae: 14965.8604\n",
      "Epoch 48/100\n",
      "1/1 [==============================] - 0s 54ms/step - loss: 263479600.0000 - mse: 263479600.0000 - mae: 14127.4307 - val_loss: 334151744.0000 - val_mse: 334151744.0000 - val_mae: 14965.8320\n",
      "Epoch 49/100\n",
      "1/1 [==============================] - 0s 69ms/step - loss: 263478624.0000 - mse: 263478624.0000 - mae: 14127.4082 - val_loss: 334150336.0000 - val_mse: 334150336.0000 - val_mae: 14965.8018\n",
      "Epoch 50/100\n",
      "1/1 [==============================] - 0s 57ms/step - loss: 263477632.0000 - mse: 263477632.0000 - mae: 14127.3809 - val_loss: 334148960.0000 - val_mse: 334148960.0000 - val_mae: 14965.7715\n",
      "Epoch 51/100\n",
      "1/1 [==============================] - 0s 57ms/step - loss: 263476560.0000 - mse: 263476560.0000 - mae: 14127.3545 - val_loss: 334147520.0000 - val_mse: 334147520.0000 - val_mae: 14965.7412\n",
      "Epoch 52/100\n",
      "1/1 [==============================] - 0s 61ms/step - loss: 263475520.0000 - mse: 263475520.0000 - mae: 14127.3271 - val_loss: 334146016.0000 - val_mse: 334146016.0000 - val_mae: 14965.7100\n",
      "Epoch 53/100\n",
      "1/1 [==============================] - 0s 65ms/step - loss: 263474432.0000 - mse: 263474432.0000 - mae: 14127.2998 - val_loss: 334144480.0000 - val_mse: 334144480.0000 - val_mae: 14965.6768\n",
      "Epoch 54/100\n",
      "1/1 [==============================] - 0s 56ms/step - loss: 263473344.0000 - mse: 263473344.0000 - mae: 14127.2695 - val_loss: 334142912.0000 - val_mse: 334142912.0000 - val_mae: 14965.6445\n",
      "Epoch 55/100\n",
      "1/1 [==============================] - 0s 54ms/step - loss: 263472224.0000 - mse: 263472224.0000 - mae: 14127.2393 - val_loss: 334141376.0000 - val_mse: 334141376.0000 - val_mae: 14965.6104\n",
      "Epoch 56/100\n",
      "1/1 [==============================] - 0s 56ms/step - loss: 263471056.0000 - mse: 263471056.0000 - mae: 14127.2109 - val_loss: 334139744.0000 - val_mse: 334139744.0000 - val_mae: 14965.5762\n",
      "Epoch 57/100\n",
      "1/1 [==============================] - 0s 53ms/step - loss: 263469840.0000 - mse: 263469840.0000 - mae: 14127.1797 - val_loss: 334138048.0000 - val_mse: 334138048.0000 - val_mae: 14965.5410\n",
      "Epoch 58/100\n",
      "1/1 [==============================] - 0s 58ms/step - loss: 263468656.0000 - mse: 263468656.0000 - mae: 14127.1504 - val_loss: 334136352.0000 - val_mse: 334136352.0000 - val_mae: 14965.5039\n",
      "Epoch 59/100\n",
      "1/1 [==============================] - 0s 58ms/step - loss: 263467408.0000 - mse: 263467408.0000 - mae: 14127.1172 - val_loss: 334134624.0000 - val_mse: 334134624.0000 - val_mae: 14965.4678\n",
      "Epoch 60/100\n",
      "1/1 [==============================] - 0s 52ms/step - loss: 263466128.0000 - mse: 263466128.0000 - mae: 14127.0830 - val_loss: 334132896.0000 - val_mse: 334132896.0000 - val_mae: 14965.4297\n",
      "Epoch 61/100\n",
      "1/1 [==============================] - 0s 58ms/step - loss: 263464848.0000 - mse: 263464848.0000 - mae: 14127.0518 - val_loss: 334131072.0000 - val_mse: 334131072.0000 - val_mae: 14965.3926\n",
      "Epoch 62/100\n",
      "1/1 [==============================] - 0s 57ms/step - loss: 263463504.0000 - mse: 263463504.0000 - mae: 14127.0166 - val_loss: 334129216.0000 - val_mse: 334129216.0000 - val_mae: 14965.3525\n",
      "Epoch 63/100\n",
      "1/1 [==============================] - 0s 54ms/step - loss: 263462160.0000 - mse: 263462160.0000 - mae: 14126.9834 - val_loss: 334127296.0000 - val_mse: 334127296.0000 - val_mae: 14965.3125\n",
      "Epoch 64/100\n",
      "1/1 [==============================] - 0s 63ms/step - loss: 263460752.0000 - mse: 263460752.0000 - mae: 14126.9482 - val_loss: 334125344.0000 - val_mse: 334125344.0000 - val_mae: 14965.2725\n",
      "Epoch 65/100\n",
      "1/1 [==============================] - 0s 62ms/step - loss: 263459360.0000 - mse: 263459360.0000 - mae: 14126.9121 - val_loss: 334123360.0000 - val_mse: 334123360.0000 - val_mae: 14965.2305\n",
      "Epoch 66/100\n",
      "1/1 [==============================] - 0s 59ms/step - loss: 263457920.0000 - mse: 263457920.0000 - mae: 14126.8760 - val_loss: 334121312.0000 - val_mse: 334121312.0000 - val_mae: 14965.1895\n",
      "Epoch 67/100\n",
      "1/1 [==============================] - 0s 55ms/step - loss: 263456416.0000 - mse: 263456416.0000 - mae: 14126.8379 - val_loss: 334119264.0000 - val_mse: 334119264.0000 - val_mae: 14965.1455\n",
      "Epoch 68/100\n",
      "1/1 [==============================] - 0s 56ms/step - loss: 263454896.0000 - mse: 263454896.0000 - mae: 14126.8008 - val_loss: 334117152.0000 - val_mse: 334117152.0000 - val_mae: 14965.1016\n",
      "Epoch 69/100\n",
      "1/1 [==============================] - 0s 62ms/step - loss: 263453360.0000 - mse: 263453360.0000 - mae: 14126.7607 - val_loss: 334115008.0000 - val_mse: 334115008.0000 - val_mae: 14965.0547\n",
      "Epoch 70/100\n",
      "1/1 [==============================] - 0s 64ms/step - loss: 263451776.0000 - mse: 263451776.0000 - mae: 14126.7217 - val_loss: 334112768.0000 - val_mse: 334112768.0000 - val_mae: 14965.0107\n",
      "Epoch 71/100\n",
      "1/1 [==============================] - 0s 50ms/step - loss: 263450160.0000 - mse: 263450160.0000 - mae: 14126.6807 - val_loss: 334110496.0000 - val_mse: 334110496.0000 - val_mae: 14964.9629\n",
      "Epoch 72/100\n",
      "1/1 [==============================] - 0s 56ms/step - loss: 263448528.0000 - mse: 263448528.0000 - mae: 14126.6396 - val_loss: 334108224.0000 - val_mse: 334108224.0000 - val_mae: 14964.9160\n",
      "Epoch 73/100\n",
      "1/1 [==============================] - 0s 61ms/step - loss: 263446816.0000 - mse: 263446816.0000 - mae: 14126.5986 - val_loss: 334105856.0000 - val_mse: 334105856.0000 - val_mae: 14964.8662\n",
      "Epoch 74/100\n",
      "1/1 [==============================] - 0s 60ms/step - loss: 263445104.0000 - mse: 263445104.0000 - mae: 14126.5547 - val_loss: 334103488.0000 - val_mse: 334103488.0000 - val_mae: 14964.8164\n",
      "Epoch 75/100\n",
      "1/1 [==============================] - 0s 49ms/step - loss: 263443328.0000 - mse: 263443328.0000 - mae: 14126.5107 - val_loss: 334101024.0000 - val_mse: 334101024.0000 - val_mae: 14964.7676\n",
      "Epoch 76/100\n",
      "1/1 [==============================] - 0s 53ms/step - loss: 263441536.0000 - mse: 263441536.0000 - mae: 14126.4668 - val_loss: 334098496.0000 - val_mse: 334098496.0000 - val_mae: 14964.7148\n",
      "Epoch 77/100\n",
      "1/1 [==============================] - 0s 56ms/step - loss: 263439712.0000 - mse: 263439712.0000 - mae: 14126.4209 - val_loss: 334095968.0000 - val_mse: 334095968.0000 - val_mae: 14964.6641\n",
      "Epoch 78/100\n",
      "1/1 [==============================] - 0s 60ms/step - loss: 263437840.0000 - mse: 263437840.0000 - mae: 14126.3750 - val_loss: 334093376.0000 - val_mse: 334093376.0000 - val_mae: 14964.6104\n",
      "Epoch 79/100\n",
      "1/1 [==============================] - 0s 58ms/step - loss: 263435952.0000 - mse: 263435952.0000 - mae: 14126.3281 - val_loss: 334090784.0000 - val_mse: 334090784.0000 - val_mae: 14964.5547\n",
      "Epoch 80/100\n",
      "1/1 [==============================] - 0s 74ms/step - loss: 263433984.0000 - mse: 263433984.0000 - mae: 14126.2783 - val_loss: 334088064.0000 - val_mse: 334088064.0000 - val_mae: 14964.5010\n",
      "Epoch 81/100\n",
      "1/1 [==============================] - 0s 69ms/step - loss: 263431984.0000 - mse: 263431984.0000 - mae: 14126.2305 - val_loss: 334085312.0000 - val_mse: 334085312.0000 - val_mae: 14964.4453\n",
      "Epoch 82/100\n",
      "1/1 [==============================] - 0s 68ms/step - loss: 263429952.0000 - mse: 263429952.0000 - mae: 14126.1797 - val_loss: 334082528.0000 - val_mse: 334082528.0000 - val_mae: 14964.3867\n",
      "Epoch 83/100\n",
      "1/1 [==============================] - 0s 50ms/step - loss: 263427856.0000 - mse: 263427856.0000 - mae: 14126.1289 - val_loss: 334079712.0000 - val_mse: 334079712.0000 - val_mae: 14964.3301\n",
      "Epoch 84/100\n",
      "1/1 [==============================] - 0s 68ms/step - loss: 263425728.0000 - mse: 263425728.0000 - mae: 14126.0771 - val_loss: 334076800.0000 - val_mse: 334076800.0000 - val_mae: 14964.2695\n",
      "Epoch 85/100\n",
      "1/1 [==============================] - 0s 57ms/step - loss: 263423552.0000 - mse: 263423552.0000 - mae: 14126.0244 - val_loss: 334073856.0000 - val_mse: 334073856.0000 - val_mae: 14964.2090\n",
      "Epoch 86/100\n",
      "1/1 [==============================] - 0s 57ms/step - loss: 263421328.0000 - mse: 263421328.0000 - mae: 14125.9668 - val_loss: 334070816.0000 - val_mse: 334070816.0000 - val_mae: 14964.1475\n",
      "Epoch 87/100\n",
      "1/1 [==============================] - 0s 63ms/step - loss: 263419040.0000 - mse: 263419040.0000 - mae: 14125.9131 - val_loss: 334067712.0000 - val_mse: 334067712.0000 - val_mae: 14964.0840\n",
      "Epoch 88/100\n",
      "1/1 [==============================] - 0s 63ms/step - loss: 263416720.0000 - mse: 263416720.0000 - mae: 14125.8564 - val_loss: 334064608.0000 - val_mse: 334064608.0000 - val_mae: 14964.0215\n",
      "Epoch 89/100\n",
      "1/1 [==============================] - 0s 56ms/step - loss: 263414384.0000 - mse: 263414384.0000 - mae: 14125.7979 - val_loss: 334061440.0000 - val_mse: 334061440.0000 - val_mae: 14963.9570\n",
      "Epoch 90/100\n",
      "1/1 [==============================] - 0s 55ms/step - loss: 263411984.0000 - mse: 263411984.0000 - mae: 14125.7402 - val_loss: 334058144.0000 - val_mse: 334058144.0000 - val_mae: 14963.8916\n",
      "Epoch 91/100\n",
      "1/1 [==============================] - 0s 50ms/step - loss: 263409520.0000 - mse: 263409520.0000 - mae: 14125.6797 - val_loss: 334054816.0000 - val_mse: 334054816.0000 - val_mae: 14963.8242\n",
      "Epoch 92/100\n",
      "1/1 [==============================] - 0s 44ms/step - loss: 263407024.0000 - mse: 263407024.0000 - mae: 14125.6191 - val_loss: 334051456.0000 - val_mse: 334051456.0000 - val_mae: 14963.7559\n",
      "Epoch 93/100\n",
      "1/1 [==============================] - 0s 47ms/step - loss: 263404480.0000 - mse: 263404480.0000 - mae: 14125.5566 - val_loss: 334048000.0000 - val_mse: 334048000.0000 - val_mae: 14963.6855\n",
      "Epoch 94/100\n",
      "1/1 [==============================] - 0s 52ms/step - loss: 263401856.0000 - mse: 263401856.0000 - mae: 14125.4941 - val_loss: 334044480.0000 - val_mse: 334044480.0000 - val_mae: 14963.6143\n",
      "Epoch 95/100\n",
      "1/1 [==============================] - 0s 55ms/step - loss: 263399184.0000 - mse: 263399184.0000 - mae: 14125.4297 - val_loss: 334040896.0000 - val_mse: 334040896.0000 - val_mae: 14963.5430\n",
      "Epoch 96/100\n",
      "1/1 [==============================] - 0s 47ms/step - loss: 263396496.0000 - mse: 263396496.0000 - mae: 14125.3643 - val_loss: 334037280.0000 - val_mse: 334037280.0000 - val_mae: 14963.4688\n",
      "Epoch 97/100\n",
      "1/1 [==============================] - 0s 50ms/step - loss: 263393760.0000 - mse: 263393760.0000 - mae: 14125.2979 - val_loss: 334033536.0000 - val_mse: 334033536.0000 - val_mae: 14963.3945\n",
      "Epoch 98/100\n",
      "1/1 [==============================] - 0s 49ms/step - loss: 263390944.0000 - mse: 263390944.0000 - mae: 14125.2295 - val_loss: 334029760.0000 - val_mse: 334029760.0000 - val_mae: 14963.3193\n",
      "Epoch 99/100\n",
      "1/1 [==============================] - 0s 50ms/step - loss: 263388096.0000 - mse: 263388096.0000 - mae: 14125.1602 - val_loss: 334025920.0000 - val_mse: 334025920.0000 - val_mae: 14963.2402\n",
      "Epoch 100/100\n",
      "1/1 [==============================] - 0s 47ms/step - loss: 263385184.0000 - mse: 263385184.0000 - mae: 14125.0908 - val_loss: 334021952.0000 - val_mse: 334021952.0000 - val_mae: 14963.1621\n"
     ]
    }
   ],
   "source": [
    "history=model.fit(part_x_train,part_y_train,epochs=100,validation_data=(x_val,y_val),batch_size=512)"
   ]
  },
  {
   "cell_type": "markdown",
   "metadata": {
    "id": "IanVjwluyNPo"
   },
   "source": [
    "Evaluation Step"
   ]
  },
  {
   "cell_type": "code",
   "execution_count": 65,
   "metadata": {
    "id": "E_me_URevY-x",
    "colab": {
     "base_uri": "https://localhost:8080/"
    },
    "outputId": "fbf1d02b-547d-4f92-c6ca-0c61ae495316"
   },
   "outputs": [
    {
     "name": "stdout",
     "output_type": "stream",
     "text": [
      "2/2 [==============================] - 0s 7ms/step - loss: 151921584.0000 - mse: 151921584.0000 - mae: 10918.2607\n"
     ]
    },
    {
     "data": {
      "text/plain": [
       "[151921584.0, 151921584.0, 10918.2607421875]"
      ]
     },
     "execution_count": 65,
     "metadata": {
      "tags": []
     },
     "output_type": "execute_result"
    }
   ],
   "source": [
    "model.evaluate(x_test,y_test)"
   ]
  },
  {
   "cell_type": "markdown",
   "metadata": {
    "id": "UPBTp-LMyTKU"
   },
   "source": [
    "Prediction"
   ]
  },
  {
   "cell_type": "code",
   "execution_count": 66,
   "metadata": {
    "id": "4CaEolqyvY-y",
    "colab": {
     "base_uri": "https://localhost:8080/"
    },
    "outputId": "58a27e52-b89e-4f57-cbb1-a69ff7f32bba"
   },
   "outputs": [
    {
     "data": {
      "text/plain": [
       "148.79848"
      ]
     },
     "execution_count": 66,
     "metadata": {
      "tags": []
     },
     "output_type": "execute_result"
    }
   ],
   "source": [
    "model.predict(x_test).sum()"
   ]
  }
 ],
 "metadata": {
  "kernelspec": {
   "display_name": "Python 3",
   "language": "python",
   "name": "python3"
  },
  "language_info": {
   "codemirror_mode": {
    "name": "ipython",
    "version": 3
   },
   "file_extension": ".py",
   "mimetype": "text/x-python",
   "name": "python",
   "nbconvert_exporter": "python",
   "pygments_lexer": "ipython3",
   "version": "3.8.5"
  },
  "colab": {
   "name": " Car Price Prediction assignment.ipynb",
   "provenance": [],
   "collapsed_sections": [],
   "toc_visible": true
  }
 },
 "nbformat": 4,
 "nbformat_minor": 0
}
